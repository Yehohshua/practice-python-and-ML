{
 "cells": [
  {
   "cell_type": "markdown",
   "id": "fde74c63",
   "metadata": {},
   "source": [
    "# Pandas - working with columns of a data frame"
   ]
  },
  {
   "cell_type": "code",
   "execution_count": null,
   "id": "066ef19f",
   "metadata": {},
   "outputs": [],
   "source": [
    "import pandas as pd\n",
    "\n",
    "#read  data from csv file into pandas data frame\n",
    "df = pd.read_csv('Covid Live.csv')\n",
    "\n",
    "#look at the top five lines\n",
    "df.head()"
   ]
  },
  {
   "cell_type": "markdown",
   "id": "1d6dbd93",
   "metadata": {},
   "source": [
    "Let's find out how to reload the file without the index column:\n"
   ]
  },
  {
   "cell_type": "code",
   "execution_count": null,
   "id": "677e29d9",
   "metadata": {},
   "outputs": [],
   "source": [
    "help(pd.read_csv)"
   ]
  },
  {
   "cell_type": "code",
   "execution_count": null,
   "id": "b5d8198c",
   "metadata": {},
   "outputs": [],
   "source": [
    "df = pd.read_csv(\"Covid Live.csv\", index_col=0)\n",
    "df.head()"
   ]
  },
  {
   "cell_type": "code",
   "execution_count": null,
   "id": "2eae4f57",
   "metadata": {},
   "outputs": [],
   "source": [
    "#let's have a closer look at the column names. There's something strange there.\n",
    "print(df.columns)"
   ]
  },
  {
   "cell_type": "markdown",
   "id": "d7c37191",
   "metadata": {},
   "source": [
    "In the column names the \\n is annoying. Let's get rid of it!"
   ]
  },
  {
   "cell_type": "code",
   "execution_count": null,
   "id": "1cc285ec",
   "metadata": {},
   "outputs": [],
   "source": [
    "#use list comprehension\n",
    "col_names = [???   for ??? in df.columns]\n",
    "\n",
    "#now replace the column names with the corrected version\n",
    "df.columns = ???\n",
    "\n",
    "#check that it has worked\n",
    "df.head(3)"
   ]
  },
  {
   "cell_type": "markdown",
   "id": "630bc221",
   "metadata": {},
   "source": [
    "What is the shape of the data frame?"
   ]
  },
  {
   "cell_type": "code",
   "execution_count": null,
   "id": "49c24648",
   "metadata": {},
   "outputs": [],
   "source": []
  },
  {
   "cell_type": "markdown",
   "id": "5be873ef",
   "metadata": {},
   "source": [
    "What are the data types we see in the different columns? Use *dtpyes* to find out."
   ]
  },
  {
   "cell_type": "code",
   "execution_count": null,
   "id": "9d09e158",
   "metadata": {},
   "outputs": [],
   "source": [
    "df.dtypes"
   ]
  },
  {
   "cell_type": "markdown",
   "id": "d37e106b",
   "metadata": {},
   "source": [
    "So all the columns contain strings, apart from 'New Deaths'. We won't be able to do any calculations like that. <br>\n",
    "Let's look first at 'New Deaths'. The first few values are all NaN's. What does the whole column look like?"
   ]
  },
  {
   "cell_type": "code",
   "execution_count": null,
   "id": "504cabee",
   "metadata": {},
   "outputs": [],
   "source": [
    "#print out 'New Deaths' column\n",
    "print(???)"
   ]
  },
  {
   "cell_type": "markdown",
   "id": "b98b180e",
   "metadata": {},
   "source": [
    "How can we be sure if there is any data there at all? Is the whole column full of NaN's? Maybe *describe* method can help?"
   ]
  },
  {
   "cell_type": "code",
   "execution_count": null,
   "id": "cb9ec2fd",
   "metadata": {},
   "outputs": [],
   "source": []
  },
  {
   "cell_type": "markdown",
   "id": "cb1b72a9",
   "metadata": {},
   "source": [
    "We can look at the rows that have no missing values by using *dropna* but it won't leave us much to work on, so this column isn't going to be very helpful."
   ]
  },
  {
   "cell_type": "code",
   "execution_count": null,
   "id": "dbf81e8f",
   "metadata": {},
   "outputs": [],
   "source": [
    "print(df.dropna())"
   ]
  },
  {
   "cell_type": "markdown",
   "id": "81b7951c",
   "metadata": {},
   "source": [
    "Maybe we can just get rid of this column then...We can use *drop* with argument *axis=1*"
   ]
  },
  {
   "cell_type": "code",
   "execution_count": null,
   "id": "fc81c926",
   "metadata": {},
   "outputs": [],
   "source": [
    "#in a data frame axis=0 refers to a row and axis=1 refers to a column\n",
    "df =df.drop( ??? ,axis=1)\n",
    "\n",
    "#check that it has worked\n",
    "df.head()"
   ]
  },
  {
   "cell_type": "markdown",
   "id": "f61ca8a9",
   "metadata": {},
   "source": [
    "Now we need to convert all the strings, apart from the Country names, to integers, but we have to get rid of all the commas first.<br>\n",
    "Loop over all the columns apart from Country, get rid of commas with *str.replace* and convert strings to numbers with *pd.to_numeric* "
   ]
  },
  {
   "cell_type": "code",
   "execution_count": null,
   "id": "ef4862ba",
   "metadata": {},
   "outputs": [],
   "source": [
    "#for loop over columns\n",
    "for ??? in ???:\n",
    "    ???\n",
    "\n",
    "#check that it has worked!\n",
    "df.head(3)\n",
    "df.dtype \n"
   ]
  },
  {
   "cell_type": "markdown",
   "id": "055f8587",
   "metadata": {},
   "source": [
    "At last we can do some calculations!<br>\n",
    "How can we find the percentage of covid cases out of the world population?<br>"
   ]
  },
  {
   "cell_type": "code",
   "execution_count": null,
   "id": "2214c0ae",
   "metadata": {},
   "outputs": [],
   "source": []
  },
  {
   "cell_type": "markdown",
   "id": "8a3aaf5b",
   "metadata": {},
   "source": [
    "Maybe we can calculate the percentage of deaths out of of all cases in the world?"
   ]
  },
  {
   "cell_type": "code",
   "execution_count": null,
   "id": "fd8152df",
   "metadata": {},
   "outputs": [],
   "source": []
  },
  {
   "cell_type": "markdown",
   "id": "011ef96c",
   "metadata": {},
   "source": [
    "Now we will use *sort_values* to sort the data frame by the  \"Deaths/ 1M pop\" column"
   ]
  },
  {
   "cell_type": "code",
   "execution_count": null,
   "id": "30328dbc",
   "metadata": {},
   "outputs": [],
   "source": []
  },
  {
   "cell_type": "markdown",
   "id": "33c62b43",
   "metadata": {},
   "source": [
    "Which country has done the most tests per million ? Use *sort_values* with argument *ascending = False*"
   ]
  },
  {
   "cell_type": "code",
   "execution_count": null,
   "id": "e776f690",
   "metadata": {},
   "outputs": [],
   "source": []
  },
  {
   "cell_type": "markdown",
   "id": "f49b9195",
   "metadata": {},
   "source": [
    "We have only looked at column manipulation so far, but can you work out how to get the row where 'Country, Other' is Israel?"
   ]
  },
  {
   "cell_type": "code",
   "execution_count": null,
   "id": "a4018468",
   "metadata": {},
   "outputs": [],
   "source": []
  }
 ],
 "metadata": {
  "kernelspec": {
   "display_name": "Python 3 (ipykernel)",
   "language": "python",
   "name": "python3"
  },
  "language_info": {
   "codemirror_mode": {
    "name": "ipython",
    "version": 3
   },
   "file_extension": ".py",
   "mimetype": "text/x-python",
   "name": "python",
   "nbconvert_exporter": "python",
   "pygments_lexer": "ipython3",
   "version": "3.9.13"
  }
 },
 "nbformat": 4,
 "nbformat_minor": 5
}
