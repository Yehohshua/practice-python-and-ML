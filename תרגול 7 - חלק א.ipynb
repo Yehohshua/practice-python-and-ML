{
 "cells": [
  {
   "cell_type": "markdown",
   "id": "d7f0d980",
   "metadata": {},
   "source": [
    "# Linear Regression"
   ]
  },
  {
   "cell_type": "markdown",
   "id": "62bc4d72",
   "metadata": {},
   "source": [
    "1. If the variable is categorical (type str) or quantative discrete (type integer)  and you need to plot the frequencies - use a bar plot or pie plot.\n",
    "2. If the variable is quantative continuous and you need to plot frequancies - use histogram.\n",
    "3. If the data is quantative continuous and you want to see its values relative to another variable - use line plot\n",
    "3. To compare distributions of ordered variables use boxplot.\n",
    "4. To check if two quantative variables are correlated - use scatter plot."
   ]
  },
  {
   "cell_type": "code",
   "execution_count": 1,
   "id": "c2505192",
   "metadata": {},
   "outputs": [],
   "source": [
    "#run cell\n",
    "import numpy as np\n",
    "import pandas as pd\n",
    "import matplotlib.pyplot as plt"
   ]
  },
  {
   "cell_type": "markdown",
   "id": "f8c58fbc",
   "metadata": {},
   "source": [
    "#### Read 'Bakery sales.csv' into data frame, parse date , drop Unnamed column and make unit_price into float"
   ]
  },
  {
   "cell_type": "code",
   "execution_count": 2,
   "id": "811ed073",
   "metadata": {},
   "outputs": [
    {
     "name": "stdout",
     "output_type": "stream",
     "text": [
      "        date   time  ticket_number               article  Quantity  unit_price\n",
      "0 2021-01-02  08:38       150040.0              BAGUETTE       1.0        0.90\n",
      "1 2021-01-02  08:38       150040.0      PAIN AU CHOCOLAT       3.0        1.20\n",
      "2 2021-01-02  09:14       150041.0      PAIN AU CHOCOLAT       2.0        1.20\n",
      "3 2021-01-02  09:14       150041.0                  PAIN       1.0        1.15\n",
      "4 2021-01-02  09:25       150042.0  TRADITIONAL BAGUETTE       5.0        1.20\n",
      "<class 'pandas.core.frame.DataFrame'>\n",
      "RangeIndex: 234005 entries, 0 to 234004\n",
      "Data columns (total 6 columns):\n",
      " #   Column         Non-Null Count   Dtype         \n",
      "---  ------         --------------   -----         \n",
      " 0   date           234005 non-null  datetime64[ns]\n",
      " 1   time           234005 non-null  object        \n",
      " 2   ticket_number  234005 non-null  float64       \n",
      " 3   article        234005 non-null  object        \n",
      " 4   Quantity       234005 non-null  float64       \n",
      " 5   unit_price     234005 non-null  float64       \n",
      "dtypes: datetime64[ns](1), float64(3), object(2)\n",
      "memory usage: 10.7+ MB\n",
      "None\n"
     ]
    }
   ],
   "source": [
    "\n",
    "df = pd.read_csv('Bakery sales.csv',parse_dates=['date'])\n",
    "df = df.drop('Unnamed: 0',axis=1)\n",
    "df.unit_price = df.unit_price.str.replace(',','.').str.replace('€','').astype('float')\n",
    "\n",
    "print(df.head())\n",
    "print(df.info())"
   ]
  },
  {
   "cell_type": "markdown",
   "id": "5e5d5426",
   "metadata": {},
   "source": [
    "#### Add a column 'total' containing the total sale by multiplying the quantity bought by the unit price "
   ]
  },
  {
   "cell_type": "code",
   "execution_count": 3,
   "id": "be2e47ad",
   "metadata": {},
   "outputs": [
    {
     "data": {
      "text/html": [
       "<div>\n",
       "<style scoped>\n",
       "    .dataframe tbody tr th:only-of-type {\n",
       "        vertical-align: middle;\n",
       "    }\n",
       "\n",
       "    .dataframe tbody tr th {\n",
       "        vertical-align: top;\n",
       "    }\n",
       "\n",
       "    .dataframe thead th {\n",
       "        text-align: right;\n",
       "    }\n",
       "</style>\n",
       "<table border=\"1\" class=\"dataframe\">\n",
       "  <thead>\n",
       "    <tr style=\"text-align: right;\">\n",
       "      <th></th>\n",
       "      <th>date</th>\n",
       "      <th>time</th>\n",
       "      <th>ticket_number</th>\n",
       "      <th>article</th>\n",
       "      <th>Quantity</th>\n",
       "      <th>unit_price</th>\n",
       "      <th>total</th>\n",
       "    </tr>\n",
       "  </thead>\n",
       "  <tbody>\n",
       "    <tr>\n",
       "      <th>0</th>\n",
       "      <td>2021-01-02</td>\n",
       "      <td>08:38</td>\n",
       "      <td>150040.0</td>\n",
       "      <td>BAGUETTE</td>\n",
       "      <td>1.0</td>\n",
       "      <td>0.9</td>\n",
       "      <td>0.9</td>\n",
       "    </tr>\n",
       "    <tr>\n",
       "      <th>1</th>\n",
       "      <td>2021-01-02</td>\n",
       "      <td>08:38</td>\n",
       "      <td>150040.0</td>\n",
       "      <td>PAIN AU CHOCOLAT</td>\n",
       "      <td>3.0</td>\n",
       "      <td>1.2</td>\n",
       "      <td>3.6</td>\n",
       "    </tr>\n",
       "    <tr>\n",
       "      <th>2</th>\n",
       "      <td>2021-01-02</td>\n",
       "      <td>09:14</td>\n",
       "      <td>150041.0</td>\n",
       "      <td>PAIN AU CHOCOLAT</td>\n",
       "      <td>2.0</td>\n",
       "      <td>1.2</td>\n",
       "      <td>2.4</td>\n",
       "    </tr>\n",
       "  </tbody>\n",
       "</table>\n",
       "</div>"
      ],
      "text/plain": [
       "        date   time  ticket_number           article  Quantity  unit_price  \\\n",
       "0 2021-01-02  08:38       150040.0          BAGUETTE       1.0         0.9   \n",
       "1 2021-01-02  08:38       150040.0  PAIN AU CHOCOLAT       3.0         1.2   \n",
       "2 2021-01-02  09:14       150041.0  PAIN AU CHOCOLAT       2.0         1.2   \n",
       "\n",
       "   total  \n",
       "0    0.9  \n",
       "1    3.6  \n",
       "2    2.4  "
      ]
     },
     "execution_count": 3,
     "metadata": {},
     "output_type": "execute_result"
    }
   ],
   "source": [
    "df['total']=df.Quantity*df.unit_price\n",
    "df.head(3)"
   ]
  },
  {
   "cell_type": "markdown",
   "id": "7aec321a",
   "metadata": {},
   "source": [
    "#### Make a scatter plot showing the relationship between unit_price and total. Are the variables linearly correlated? Positive or negative correlation?"
   ]
  },
  {
   "cell_type": "code",
   "execution_count": 4,
   "id": "314ca402",
   "metadata": {},
   "outputs": [
    {
     "data": {
      "image/png": "[encoded data removed]",
      "text/plain": [
       "<Figure size 640x480 with 1 Axes>"
      ]
     },
     "metadata": {},
     "output_type": "display_data"
    }
   ],
   "source": [
    "# CODE HERE\n",
    "plt.scatter(df.unit_price, df.total)\n",
    "plt.grid(True)\n",
    "plt.show()"
   ]
  },
  {
   "cell_type": "markdown",
   "id": "0e18ab6b",
   "metadata": {},
   "source": [
    "#### Calculate the correlation coefficient for unit_price and total"
   ]
  },
  {
   "cell_type": "code",
   "execution_count": 5,
   "id": "d8d609fb",
   "metadata": {},
   "outputs": [
    {
     "data": {
      "text/html": [
       "<div>\n",
       "<style scoped>\n",
       "    .dataframe tbody tr th:only-of-type {\n",
       "        vertical-align: middle;\n",
       "    }\n",
       "\n",
       "    .dataframe tbody tr th {\n",
       "        vertical-align: top;\n",
       "    }\n",
       "\n",
       "    .dataframe thead th {\n",
       "        text-align: right;\n",
       "    }\n",
       "</style>\n",
       "<table border=\"1\" class=\"dataframe\">\n",
       "  <thead>\n",
       "    <tr style=\"text-align: right;\">\n",
       "      <th></th>\n",
       "      <th>unit_price</th>\n",
       "      <th>total</th>\n",
       "      <th>Quantity</th>\n",
       "    </tr>\n",
       "  </thead>\n",
       "  <tbody>\n",
       "    <tr>\n",
       "      <th>unit_price</th>\n",
       "      <td>1.000000</td>\n",
       "      <td>0.690531</td>\n",
       "      <td>-0.076422</td>\n",
       "    </tr>\n",
       "    <tr>\n",
       "      <th>total</th>\n",
       "      <td>0.690531</td>\n",
       "      <td>1.000000</td>\n",
       "      <td>0.556604</td>\n",
       "    </tr>\n",
       "    <tr>\n",
       "      <th>Quantity</th>\n",
       "      <td>-0.076422</td>\n",
       "      <td>0.556604</td>\n",
       "      <td>1.000000</td>\n",
       "    </tr>\n",
       "  </tbody>\n",
       "</table>\n",
       "</div>"
      ],
      "text/plain": [
       "            unit_price     total  Quantity\n",
       "unit_price    1.000000  0.690531 -0.076422\n",
       "total         0.690531  1.000000  0.556604\n",
       "Quantity     -0.076422  0.556604  1.000000"
      ]
     },
     "execution_count": 5,
     "metadata": {},
     "output_type": "execute_result"
    }
   ],
   "source": [
    "# CODE HERE\n",
    "df[['unit_price', 'total', 'Quantity']].corr()"
   ]
  },
  {
   "cell_type": "markdown",
   "id": "10888bd8",
   "metadata": {},
   "source": [
    " #### Colour the graph according to values of Quantity and add gridlines\n"
   ]
  },
  {
   "cell_type": "code",
   "execution_count": 17,
   "id": "475d2fb5",
   "metadata": {},
   "outputs": [
    {
     "ename": "SyntaxError",
     "evalue": "invalid syntax (2605938648.py, line 2)",
     "output_type": "error",
     "traceback": [
      "\u001b[1;36m  File \u001b[1;32m\"C:\\Users\\yehus\\AppData\\Local\\Temp\\ipykernel_43316\\2605938648.py\"\u001b[1;36m, line \u001b[1;32m2\u001b[0m\n\u001b[1;33m    ax.scatter ((df['unit_price'],df['total'] , c=df['unit_price'] )\u001b[0m\n\u001b[1;37m                                                 ^\u001b[0m\n\u001b[1;31mSyntaxError\u001b[0m\u001b[1;31m:\u001b[0m invalid syntax\n"
     ]
    }
   ],
   "source": [
    "fig ,ax = plt.subplot()\n",
    "ax.scatter ((df['unit_price'],df['total'] , c=df['unit_price'] )\n",
    "\n",
    "plt.show()"
   ]
  },
  {
   "cell_type": "markdown",
   "id": "8293183b",
   "metadata": {},
   "source": [
    "#### Add regression line  to scatter plot"
   ]
  },
  {
   "cell_type": "code",
   "execution_count": 10,
   "id": "ae91a73c",
   "metadata": {},
   "outputs": [
    {
     "name": "stdout",
     "output_type": "stream",
     "text": [
      "1.0562236123691855 0.6316539426237517\n",
      "MSE = 3.6325637641574793\n",
      "rmse = 1.9059285831734303\n",
      "R^2 = 0.4768329170956155\n"
     ]
    },
    {
     "data": {
      "image/png": "[encoded data removed]",
      "text/plain": [
       "<Figure size 640x480 with 1 Axes>"
      ]
     },
     "metadata": {},
     "output_type": "display_data"
    }
   ],
   "source": [
    "\n",
    "#import LinearRegression and instantiate class\n",
    "from sklearn.linear_model import LinearRegression \n",
    "from sklearn.metrics import mean_squared_error, r2_score\n",
    "lreg = LinearRegression()\n",
    "\n",
    "#fit model and retrieve coefficient and intercept\n",
    "#CODE HERE\n",
    "X = df[['unit_price']]\n",
    "y = df['total']\n",
    "lreg.fit(X,y)\n",
    "#plot  regression line\n",
    "#CODE HERE\n",
    "a,b =(lreg.coef_[0], lreg.intercept_)\n",
    "print(a,b)\n",
    "\n",
    "plt.scatter (df['unit_price'],df['total'])\n",
    "plt.plot(df.unit_price , a * df.unit_price + b , c='orange')\n",
    "#print mse\n",
    "\n",
    "mse = mean_squared_error(y,lreg.predict(X))\n",
    "r2 = r2_score(y,lreg.predict(X))\n",
    "print('MSE = ' + str(mse))\n",
    "print('rmse = '+ str(mse**0.5))\n",
    "print('R^2 = '+str(r2))\n"
   ]
  },
  {
   "cell_type": "markdown",
   "id": "b6cb6159",
   "metadata": {},
   "source": [
    "#### Make residuals plot"
   ]
  },
  {
   "cell_type": "code",
   "execution_count": 11,
   "id": "9ec5b417",
   "metadata": {},
   "outputs": [
    {
     "data": {
      "image/png": "[encoded data removed]",
      "text/plain": [
       "<Figure size 640x480 with 1 Axes>"
      ]
     },
     "metadata": {},
     "output_type": "display_data"
    }
   ],
   "source": [
    "residuals = y - lreg.predict(X)\n",
    "plt.plot(residuals)\n",
    "plt.show()\n"
   ]
  },
  {
   "cell_type": "markdown",
   "id": "087f0b45",
   "metadata": {},
   "source": [
    "#### Calculate mean and standard devaition of residuals"
   ]
  },
  {
   "cell_type": "code",
   "execution_count": 12,
   "id": "59d90325",
   "metadata": {},
   "outputs": [
    {
     "name": "stdout",
     "output_type": "stream",
     "text": [
      "-2.212895270661433e-14 1.9059326555968121\n"
     ]
    },
    {
     "data": {
      "text/plain": [
       "0   -0.682255\n",
       "1    1.700878\n",
       "2    0.500878\n",
       "3   -0.696311\n",
       "4    4.100878\n",
       "Name: total, dtype: float64"
      ]
     },
     "execution_count": 12,
     "metadata": {},
     "output_type": "execute_result"
    }
   ],
   "source": [
    "res_mean = residuals.mean()\n",
    "res_sd = residuals.std()\n",
    "print(res_mean,res_sd)\n",
    "residuals.head()\n"
   ]
  },
  {
   "cell_type": "markdown",
   "id": "d9d3b7f6",
   "metadata": {},
   "source": [
    "#### Remove outliers - residuals that are further than 2 standard devaitions from the mean. (Removes about 5% of data if noramlly distributed)"
   ]
  },
  {
   "cell_type": "code",
   "execution_count": 13,
   "id": "face3c55",
   "metadata": {},
   "outputs": [],
   "source": [
    "filt = residuals.apply(lambda x: -2*res_sd < x < 2*res_sd)\n",
    "res_filtered = residuals[filt]\n"
   ]
  },
  {
   "cell_type": "code",
   "execution_count": 14,
   "id": "81966832",
   "metadata": {},
   "outputs": [
    {
     "name": "stdout",
     "output_type": "stream",
     "text": [
      "-0.2012644339685422\n",
      "0.9698403702116709\n"
     ]
    }
   ],
   "source": [
    "#mean anda standart deviation of filtered residuals\n",
    "print(res_filtered.mean())\n",
    "print(res_filtered.std())"
   ]
  },
  {
   "cell_type": "code",
   "execution_count": 15,
   "id": "7d30dee1",
   "metadata": {},
   "outputs": [
    {
     "data": {
      "text/plain": [
       "count    225536.000000\n",
       "mean         -0.201264\n",
       "std           0.969840\n",
       "min          -3.715989\n",
       "25%          -0.710367\n",
       "50%          -0.693500\n",
       "75%           0.406500\n",
       "max           3.784011\n",
       "Name: total, dtype: float64"
      ]
     },
     "execution_count": 15,
     "metadata": {},
     "output_type": "execute_result"
    }
   ],
   "source": [
    "res_filtered.describe()"
   ]
  },
  {
   "cell_type": "markdown",
   "id": "d65b4f62",
   "metadata": {},
   "source": [
    "#### What is rmse now?"
   ]
  },
  {
   "cell_type": "code",
   "execution_count": 16,
   "id": "512e1cb1",
   "metadata": {},
   "outputs": [
    {
     "data": {
      "text/plain": [
       "0.9810935456063606"
      ]
     },
     "execution_count": 16,
     "metadata": {},
     "output_type": "execute_result"
    }
   ],
   "source": [
    "#What is rmse now?\n",
    "#CODE HERE\n",
    "(res_filtered**2).sum() / len(res_filtered)"
   ]
  },
  {
   "cell_type": "code",
   "execution_count": null,
   "id": "90ae78d9",
   "metadata": {},
   "outputs": [],
   "source": []
  }
 ],
 "metadata": {
  "kernelspec": {
   "display_name": "Python 3 (ipykernel)",
   "language": "python",
   "name": "python3"
  },
  "language_info": {
   "codemirror_mode": {
    "name": "ipython",
    "version": 3
   },
   "file_extension": ".py",
   "mimetype": "text/x-python",
   "name": "python",
   "nbconvert_exporter": "python",
   "pygments_lexer": "ipython3",
   "version": "3.9.13"
  }
 },
 "nbformat": 4,
 "nbformat_minor": 5
}
