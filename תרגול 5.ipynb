{
 "cells": [
  {
   "cell_type": "markdown",
   "id": "d7f0d980",
   "metadata": {},
   "source": [
    "# Dates and Times and Matplotlib"
   ]
  },
  {
   "cell_type": "markdown",
   "id": "c9444930",
   "metadata": {},
   "source": [
    "## In Base Python"
   ]
  },
  {
   "cell_type": "code",
   "execution_count": 12,
   "id": "edda7457",
   "metadata": {},
   "outputs": [
    {
     "data": {
      "text/plain": [
       "datetime.date(2022, 12, 6)"
      ]
     },
     "execution_count": 12,
     "metadata": {},
     "output_type": "execute_result"
    }
   ],
   "source": [
    "from datetime import date, time, datetime , timedelta\n",
    "from dateutil import tz\n",
    "\n",
    "#run cell\n",
    "today = date.today()\n",
    "today"
   ]
  },
  {
   "cell_type": "code",
   "execution_count": 13,
   "id": "4151efb4",
   "metadata": {},
   "outputs": [
    {
     "name": "stdout",
     "output_type": "stream",
     "text": [
      "2022\n",
      "12\n",
      "6\n"
     ]
    }
   ],
   "source": [
    "#run cell\n",
    "print(today.year)\n",
    "print(today.month)\n",
    "print(today.day)"
   ]
  },
  {
   "cell_type": "code",
   "execution_count": 15,
   "id": "c58ba694",
   "metadata": {},
   "outputs": [
    {
     "data": {
      "text/plain": [
       "datetime.datetime(2022, 12, 6, 16, 15, 20, 111714)"
      ]
     },
     "execution_count": 15,
     "metadata": {},
     "output_type": "execute_result"
    }
   ],
   "source": [
    "#run cell\n",
    "now = datetime.now()\n",
    "now"
   ]
  },
  {
   "cell_type": "code",
   "execution_count": 16,
   "id": "c85b66a7",
   "metadata": {},
   "outputs": [
    {
     "name": "stdout",
     "output_type": "stream",
     "text": [
      "16\n",
      "15\n",
      "20\n"
     ]
    }
   ],
   "source": [
    "#run cell\n",
    "print(now.hour)\n",
    "print(now.minute)\n",
    "print(now.second)"
   ]
  },
  {
   "cell_type": "code",
   "execution_count": 17,
   "id": "784042ab",
   "metadata": {},
   "outputs": [
    {
     "data": {
      "text/plain": [
       "datetime.datetime(2022, 12, 6, 16, 17, 39, 26771, tzinfo=tzlocal())"
      ]
     },
     "execution_count": 17,
     "metadata": {},
     "output_type": "execute_result"
    }
   ],
   "source": [
    "#run cell\n",
    "now = datetime.now(tz=tz.tzlocal())\n",
    "now"
   ]
  },
  {
   "cell_type": "code",
   "execution_count": 18,
   "id": "a264df64",
   "metadata": {},
   "outputs": [
    {
     "data": {
      "text/plain": [
       "'שעון רגיל ירושלים'"
      ]
     },
     "execution_count": 18,
     "metadata": {},
     "output_type": "execute_result"
    }
   ],
   "source": [
    "#run cell\n",
    "now.tzname()"
   ]
  },
  {
   "cell_type": "code",
   "execution_count": 19,
   "id": "f8d1ab8f",
   "metadata": {},
   "outputs": [
    {
     "name": "stdout",
     "output_type": "stream",
     "text": [
      "2022-12-06 15:18:44.608986+01:00\n"
     ]
    }
   ],
   "source": [
    "#run cell\n",
    "now = datetime.now(tz=tz.gettz('Europe/Paris'))\n",
    "print(now)"
   ]
  },
  {
   "cell_type": "markdown",
   "id": "f13cdae5",
   "metadata": {},
   "source": [
    "#### Create a date for tomorrow using today plus a 'timedelta' of one day"
   ]
  },
  {
   "cell_type": "code",
   "execution_count": 23,
   "id": "e7233604",
   "metadata": {},
   "outputs": [
    {
     "data": {
      "text/plain": [
       "datetime.date(2022, 12, 7)"
      ]
     },
     "execution_count": 23,
     "metadata": {},
     "output_type": "execute_result"
    }
   ],
   "source": [
    "today + timedelta(days = 1)"
   ]
  },
  {
   "cell_type": "markdown",
   "id": "fe2637cc",
   "metadata": {},
   "source": [
    "#### How about the date one month from now?\n"
   ]
  },
  {
   "cell_type": "code",
   "execution_count": 48,
   "id": "4a7cf3ef",
   "metadata": {},
   "outputs": [
    {
     "data": {
      "text/plain": [
       "datetime.date(2023, 1, 6)"
      ]
     },
     "execution_count": 48,
     "metadata": {},
     "output_type": "execute_result"
    }
   ],
   "source": [
    "# hint: timedelta can be seconds, minutes, hours and days\n",
    "#CODE HERE\n",
    "today + timedelta (days = 31)"
   ]
  },
  {
   "cell_type": "markdown",
   "id": "1fb6dd1e",
   "metadata": {},
   "source": [
    "#### How long until the end of the lesson?"
   ]
  },
  {
   "cell_type": "code",
   "execution_count": 49,
   "id": "f1577f77",
   "metadata": {},
   "outputs": [],
   "source": [
    "#CODE HERE\n"
   ]
  },
  {
   "cell_type": "markdown",
   "id": "0e2ea9c8",
   "metadata": {},
   "source": [
    "## In Numpy"
   ]
  },
  {
   "cell_type": "code",
   "execution_count": 74,
   "id": "f33029c4",
   "metadata": {},
   "outputs": [
    {
     "data": {
      "text/plain": [
       "numpy.datetime64('2022-12-06T17:30')"
      ]
     },
     "execution_count": 74,
     "metadata": {},
     "output_type": "execute_result"
    }
   ],
   "source": [
    "# run cell\n",
    "import numpy as np \n",
    "\n",
    "end = np.datetime64('2022-12-06 17:30')\n",
    "end"
   ]
  },
  {
   "cell_type": "markdown",
   "id": "dcc156f1",
   "metadata": {},
   "source": [
    "#### What do you think this does?"
   ]
  },
  {
   "cell_type": "code",
   "execution_count": 75,
   "id": "323f5966",
   "metadata": {},
   "outputs": [
    {
     "name": "stdout",
     "output_type": "stream",
     "text": [
      "2022\n",
      "2022-12-06T17\n"
     ]
    }
   ],
   "source": [
    "year = np.datetime64(end,\"Y\")\n",
    "hour = np.datetime64(end,\"h\")\n",
    "print(year)\n",
    "print(hour)"
   ]
  },
  {
   "cell_type": "markdown",
   "id": "8a5d0525",
   "metadata": {},
   "source": [
    "#### So if you really want to extract the hour you will need to convert to regular Python datetime using astype(object)\n"
   ]
  },
  {
   "cell_type": "code",
   "execution_count": 76,
   "id": "01b91882",
   "metadata": {},
   "outputs": [
    {
     "data": {
      "text/plain": [
       "30"
      ]
     },
     "execution_count": 76,
     "metadata": {},
     "output_type": "execute_result"
    }
   ],
   "source": [
    "end.astype(object).minute"
   ]
  },
  {
   "cell_type": "markdown",
   "id": "e9245d2f",
   "metadata": {},
   "source": [
    "#### In NumPy you can use timedelta64"
   ]
  },
  {
   "cell_type": "code",
   "execution_count": 83,
   "id": "8c223dcf",
   "metadata": {},
   "outputs": [
    {
     "data": {
      "text/plain": [
       "numpy.datetime64('2022-12-06T18:30')"
      ]
     },
     "execution_count": 83,
     "metadata": {},
     "output_type": "execute_result"
    }
   ],
   "source": [
    "# add an hour to the end of the lesson\n",
    "# CODE HERE\n",
    "end +  60"
   ]
  },
  {
   "cell_type": "markdown",
   "id": "57871543",
   "metadata": {},
   "source": [
    "#### Make an array of all dates between 06.12.2022 and 06.01.2023 using np.arange"
   ]
  },
  {
   "cell_type": "code",
   "execution_count": 91,
   "id": "2dc5756b",
   "metadata": {},
   "outputs": [
    {
     "ename": "TypeError",
     "evalue": "Invalid datetime unit \"-12-06\" in metadata",
     "output_type": "error",
     "traceback": [
      "\u001b[1;31m---------------------------------------------------------------------------\u001b[0m",
      "\u001b[1;31mTypeError\u001b[0m                                 Traceback (most recent call last)",
      "\u001b[1;32m~\\AppData\\Local\\Temp\\ipykernel_12344\\44599289.py\u001b[0m in \u001b[0;36m<module>\u001b[1;34m\u001b[0m\n\u001b[0;32m      1\u001b[0m \u001b[1;31m#CODE HERE\u001b[0m\u001b[1;33m\u001b[0m\u001b[1;33m\u001b[0m\u001b[0m\n\u001b[1;32m----> 2\u001b[1;33m \u001b[0mnp\u001b[0m\u001b[1;33m.\u001b[0m\u001b[0marange\u001b[0m\u001b[1;33m(\u001b[0m\u001b[0mnp\u001b[0m\u001b[1;33m.\u001b[0m\u001b[0mdatetime64\u001b[0m\u001b[1;33m(\u001b[0m\u001b[1;34m'2022-12-06'\u001b[0m \u001b[1;33m,\u001b[0m \u001b[1;34m'2022-12-06'\u001b[0m \u001b[1;33m)\u001b[0m\u001b[1;33m)\u001b[0m\u001b[1;33m\u001b[0m\u001b[1;33m\u001b[0m\u001b[0m\n\u001b[0m",
      "\u001b[1;31mTypeError\u001b[0m: Invalid datetime unit \"-12-06\" in metadata"
     ]
    }
   ],
   "source": [
    "#CODE HERE\n",
    "np.arange(np.datetime64('2022-12-06' , '2022-12-06' ))\n"
   ]
  },
  {
   "cell_type": "markdown",
   "id": "c143ca9e",
   "metadata": {},
   "source": [
    "## In Pandas"
   ]
  },
  {
   "cell_type": "code",
   "execution_count": 47,
   "id": "d0b8a5a7",
   "metadata": {},
   "outputs": [
    {
     "name": "stdout",
     "output_type": "stream",
     "text": [
      "2022-12-06 17:00:00\n",
      "2022-12-06 17:00:00\n",
      "2022-06-12 17:00:00\n",
      "2022-12-06 17:00:00\n",
      "1970-01-01 00:00:10\n"
     ]
    }
   ],
   "source": [
    "# run cell\n",
    "import pandas as pd\n",
    "\n",
    "print(pd.Timestamp(year = 2022, month = 12, day = 6, hour = 17, minute = 0, second = 0))\n",
    "print(pd.Timestamp(2022,12,6,17))\n",
    "print(pd.Timestamp('06-12-2022 17:00:00'))\n",
    "print(pd.Timestamp('Dec 6, 2022 17:00:00'))\n",
    "print(pd.Timestamp(10**10))"
   ]
  },
  {
   "cell_type": "markdown",
   "id": "4f4c510b",
   "metadata": {},
   "source": [
    "#### Use to_datetime() with dayfirst = True to convert '06-12-2022 17:00:00' to the correct date"
   ]
  },
  {
   "cell_type": "code",
   "execution_count": 60,
   "id": "ef335281",
   "metadata": {},
   "outputs": [
    {
     "data": {
      "text/plain": [
       "Timestamp('2022-12-06 17:00:00')"
      ]
     },
     "execution_count": 60,
     "metadata": {},
     "output_type": "execute_result"
    }
   ],
   "source": [
    "# CODE HERE\n",
    "pd.to_datetime('06-12-2022 17:00:00', dayfirst = True)"
   ]
  },
  {
   "cell_type": "code",
   "execution_count": 61,
   "id": "8f2dceb6",
   "metadata": {},
   "outputs": [
    {
     "name": "stdout",
     "output_type": "stream",
     "text": [
      "2022\n",
      "2022-01-01 00:00:00\n",
      "2022-12-31 23:59:59.999999999\n"
     ]
    }
   ],
   "source": [
    "#run cell\n",
    "year = pd.Period('2022')\n",
    "print(year)\n",
    "print(year.start_time)\n",
    "print(year.end_time)"
   ]
  },
  {
   "cell_type": "code",
   "execution_count": 66,
   "id": "527d05b0",
   "metadata": {},
   "outputs": [
    {
     "data": {
      "text/plain": [
       "Period('2022-12', 'M')"
      ]
     },
     "execution_count": 66,
     "metadata": {},
     "output_type": "execute_result"
    }
   ],
   "source": [
    "#run cell\n",
    "month = pd.Period('2022-12-06',freq='M')\n",
    "month"
   ]
  },
  {
   "cell_type": "code",
   "execution_count": 67,
   "id": "1e005e6a",
   "metadata": {},
   "outputs": [
    {
     "data": {
      "text/plain": [
       "Period('2023-06', 'M')"
      ]
     },
     "execution_count": 67,
     "metadata": {},
     "output_type": "execute_result"
    }
   ],
   "source": [
    "# run cell\n",
    "month + 6"
   ]
  },
  {
   "cell_type": "markdown",
   "id": "f8fd5bba",
   "metadata": {},
   "source": [
    "#### Use pd.date_range() with periods=7 to create a range of dates for the next 7 days"
   ]
  },
  {
   "cell_type": "code",
   "execution_count": 70,
   "id": "c9d6b865",
   "metadata": {},
   "outputs": [
    {
     "data": {
      "text/plain": [
       "DatetimeIndex(['2022-06-12', '2022-06-13', '2022-06-14', '2022-06-15',\n",
       "               '2022-06-16', '2022-06-17', '2022-06-18'],\n",
       "              dtype='datetime64[ns]', freq='D')"
      ]
     },
     "execution_count": 70,
     "metadata": {},
     "output_type": "execute_result"
    }
   ],
   "source": [
    "next_7 = pd.date_range('06-12-2022' , periods = 7)\n",
    "\n",
    "next_7"
   ]
  },
  {
   "cell_type": "markdown",
   "id": "20608caa",
   "metadata": {},
   "source": [
    "#### You can use dt on pandas series of dates or times to use methods  like  in base python."
   ]
  },
  {
   "cell_type": "code",
   "execution_count": 87,
   "id": "d36c6c73",
   "metadata": {},
   "outputs": [
    {
     "data": {
      "text/plain": [
       "0    12\n",
       "1    13\n",
       "2    14\n",
       "3    15\n",
       "4    16\n",
       "5    17\n",
       "6    18\n",
       "dtype: int64"
      ]
     },
     "execution_count": 87,
     "metadata": {},
     "output_type": "execute_result"
    }
   ],
   "source": [
    "#run cell\n",
    "next_7 = pd.Series(next_7)\n",
    "next_7.dt.day"
   ]
  },
  {
   "cell_type": "markdown",
   "id": "0fe68f54",
   "metadata": {},
   "source": [
    "## Matplotlib"
   ]
  },
  {
   "cell_type": "markdown",
   "id": "f1f89ea9",
   "metadata": {},
   "source": [
    "### Which type of graph to choose?"
   ]
  },
  {
   "cell_type": "markdown",
   "id": "62bc4d72",
   "metadata": {},
   "source": [
    "1. If the variable is categorical (type str) or quantative discrete (type integer)  and you need to plot the frequencies - use a bar plot or pie plot.\n",
    "2. If the variable is quantative continuous and you need to plot frequancies - use histogram.\n",
    "3. If the data is quantative continuous and you want to see its values relative to another variable - use line plot\n",
    "3. To compare distributions of ordered variables use boxplot.\n",
    "4. To check if two quantative variables are correlated - use scatter plot."
   ]
  },
  {
   "cell_type": "code",
   "execution_count": 92,
   "id": "c2505192",
   "metadata": {},
   "outputs": [],
   "source": [
    "#run cell\n",
    "import matplotlib.pyplot as plt"
   ]
  },
  {
   "cell_type": "markdown",
   "id": "f8c58fbc",
   "metadata": {},
   "source": [
    "#### Read 'Bakery sales.csv' into data frame, look at first few rows and get info about the columns"
   ]
  },
  {
   "cell_type": "code",
   "execution_count": 98,
   "id": "811ed073",
   "metadata": {},
   "outputs": [
    {
     "name": "stdout",
     "output_type": "stream",
     "text": [
      "   Unnamed: 0        date   time  ticket_number               article  \\\n",
      "0           0  2021-01-02  08:38       150040.0              BAGUETTE   \n",
      "1           1  2021-01-02  08:38       150040.0      PAIN AU CHOCOLAT   \n",
      "2           4  2021-01-02  09:14       150041.0      PAIN AU CHOCOLAT   \n",
      "3           5  2021-01-02  09:14       150041.0                  PAIN   \n",
      "4           8  2021-01-02  09:25       150042.0  TRADITIONAL BAGUETTE   \n",
      "\n",
      "   Quantity unit_price  \n",
      "0       1.0     0,90 €  \n",
      "1       3.0     1,20 €  \n",
      "2       2.0     1,20 €  \n",
      "3       1.0     1,15 €  \n",
      "4       5.0     1,20 €  \n",
      "<class 'pandas.core.frame.DataFrame'>\n",
      "RangeIndex: 234005 entries, 0 to 234004\n",
      "Data columns (total 7 columns):\n",
      " #   Column         Non-Null Count   Dtype  \n",
      "---  ------         --------------   -----  \n",
      " 0   Unnamed: 0     234005 non-null  int64  \n",
      " 1   date           234005 non-null  object \n",
      " 2   time           234005 non-null  object \n",
      " 3   ticket_number  234005 non-null  float64\n",
      " 4   article        234005 non-null  object \n",
      " 5   Quantity       234005 non-null  float64\n",
      " 6   unit_price     234005 non-null  object \n",
      "dtypes: float64(2), int64(1), object(4)\n",
      "memory usage: 12.5+ MB\n"
     ]
    }
   ],
   "source": [
    "#is there an index_col ? \n",
    "#CODE HERE\n",
    "df = pd.read_csv('Bakery sales.csv')\n",
    "print(df.head())\n",
    "df.info()"
   ]
  },
  {
   "cell_type": "markdown",
   "id": "10249ade",
   "metadata": {},
   "source": [
    "####  Try again using parse_date to make pd.read_csv read the date and time as datetime "
   ]
  },
  {
   "cell_type": "code",
   "execution_count": 103,
   "id": "12bfbb7d",
   "metadata": {},
   "outputs": [
    {
     "name": "stdout",
     "output_type": "stream",
     "text": [
      "        date                time  ticket_number               article  \\\n",
      "0 2021-01-02 2022-12-06 08:38:00       150040.0              BAGUETTE   \n",
      "1 2021-01-02 2022-12-06 08:38:00       150040.0      PAIN AU CHOCOLAT   \n",
      "2 2021-01-02 2022-12-06 09:14:00       150041.0      PAIN AU CHOCOLAT   \n",
      "3 2021-01-02 2022-12-06 09:14:00       150041.0                  PAIN   \n",
      "4 2021-01-02 2022-12-06 09:25:00       150042.0  TRADITIONAL BAGUETTE   \n",
      "\n",
      "   Quantity unit_price  \n",
      "0       1.0     0,90 €  \n",
      "1       3.0     1,20 €  \n",
      "2       2.0     1,20 €  \n",
      "3       1.0     1,15 €  \n",
      "4       5.0     1,20 €  \n",
      "<class 'pandas.core.frame.DataFrame'>\n",
      "RangeIndex: 234005 entries, 0 to 234004\n",
      "Data columns (total 6 columns):\n",
      " #   Column         Non-Null Count   Dtype         \n",
      "---  ------         --------------   -----         \n",
      " 0   date           234005 non-null  datetime64[ns]\n",
      " 1   time           234005 non-null  datetime64[ns]\n",
      " 2   ticket_number  234005 non-null  float64       \n",
      " 3   article        234005 non-null  object        \n",
      " 4   Quantity       234005 non-null  float64       \n",
      " 5   unit_price     234005 non-null  object        \n",
      "dtypes: datetime64[ns](2), float64(2), object(2)\n",
      "memory usage: 10.7+ MB\n"
     ]
    }
   ],
   "source": [
    "#CODE HERE\n",
    "df = pd.read_csv('Bakery sales.csv' , parse_dates = ['date','time'] )\n",
    "df = df.drop('Unnamed: 0' , axis = 1)\n",
    "print(df.head())\n",
    "df.info()\n",
    "    "
   ]
  },
  {
   "cell_type": "markdown",
   "id": "4f5ff667",
   "metadata": {},
   "source": [
    "#### Make unit_price into a float , discard euro symbol"
   ]
  },
  {
   "cell_type": "code",
   "execution_count": 108,
   "id": "f5d85b3e",
   "metadata": {},
   "outputs": [
    {
     "data": {
      "text/html": [
       "<div>\n",
       "<style scoped>\n",
       "    .dataframe tbody tr th:only-of-type {\n",
       "        vertical-align: middle;\n",
       "    }\n",
       "\n",
       "    .dataframe tbody tr th {\n",
       "        vertical-align: top;\n",
       "    }\n",
       "\n",
       "    .dataframe thead th {\n",
       "        text-align: right;\n",
       "    }\n",
       "</style>\n",
       "<table border=\"1\" class=\"dataframe\">\n",
       "  <thead>\n",
       "    <tr style=\"text-align: right;\">\n",
       "      <th></th>\n",
       "      <th>date</th>\n",
       "      <th>time</th>\n",
       "      <th>ticket_number</th>\n",
       "      <th>article</th>\n",
       "      <th>Quantity</th>\n",
       "      <th>unit_price</th>\n",
       "    </tr>\n",
       "  </thead>\n",
       "  <tbody>\n",
       "    <tr>\n",
       "      <th>0</th>\n",
       "      <td>2021-01-02</td>\n",
       "      <td>2022-12-06 08:38:00</td>\n",
       "      <td>150040.0</td>\n",
       "      <td>BAGUETTE</td>\n",
       "      <td>1.0</td>\n",
       "      <td>0.90</td>\n",
       "    </tr>\n",
       "    <tr>\n",
       "      <th>1</th>\n",
       "      <td>2021-01-02</td>\n",
       "      <td>2022-12-06 08:38:00</td>\n",
       "      <td>150040.0</td>\n",
       "      <td>PAIN AU CHOCOLAT</td>\n",
       "      <td>3.0</td>\n",
       "      <td>1.20</td>\n",
       "    </tr>\n",
       "    <tr>\n",
       "      <th>2</th>\n",
       "      <td>2021-01-02</td>\n",
       "      <td>2022-12-06 09:14:00</td>\n",
       "      <td>150041.0</td>\n",
       "      <td>PAIN AU CHOCOLAT</td>\n",
       "      <td>2.0</td>\n",
       "      <td>1.20</td>\n",
       "    </tr>\n",
       "    <tr>\n",
       "      <th>3</th>\n",
       "      <td>2021-01-02</td>\n",
       "      <td>2022-12-06 09:14:00</td>\n",
       "      <td>150041.0</td>\n",
       "      <td>PAIN</td>\n",
       "      <td>1.0</td>\n",
       "      <td>1.15</td>\n",
       "    </tr>\n",
       "    <tr>\n",
       "      <th>4</th>\n",
       "      <td>2021-01-02</td>\n",
       "      <td>2022-12-06 09:25:00</td>\n",
       "      <td>150042.0</td>\n",
       "      <td>TRADITIONAL BAGUETTE</td>\n",
       "      <td>5.0</td>\n",
       "      <td>1.20</td>\n",
       "    </tr>\n",
       "  </tbody>\n",
       "</table>\n",
       "</div>"
      ],
      "text/plain": [
       "        date                time  ticket_number               article  \\\n",
       "0 2021-01-02 2022-12-06 08:38:00       150040.0              BAGUETTE   \n",
       "1 2021-01-02 2022-12-06 08:38:00       150040.0      PAIN AU CHOCOLAT   \n",
       "2 2021-01-02 2022-12-06 09:14:00       150041.0      PAIN AU CHOCOLAT   \n",
       "3 2021-01-02 2022-12-06 09:14:00       150041.0                  PAIN   \n",
       "4 2021-01-02 2022-12-06 09:25:00       150042.0  TRADITIONAL BAGUETTE   \n",
       "\n",
       "   Quantity  unit_price  \n",
       "0       1.0        0.90  \n",
       "1       3.0        1.20  \n",
       "2       2.0        1.20  \n",
       "3       1.0        1.15  \n",
       "4       5.0        1.20  "
      ]
     },
     "execution_count": 108,
     "metadata": {},
     "output_type": "execute_result"
    }
   ],
   "source": [
    "# CODE HERE\n",
    "df.unit_price = df.unit_price.str.replace(',','.').str.replace('€','').astype('float')\n",
    "df.head()"
   ]
  },
  {
   "cell_type": "markdown",
   "id": "66e97bf1",
   "metadata": {},
   "source": [
    "#### What are the minimum and maximum dates?"
   ]
  },
  {
   "cell_type": "code",
   "execution_count": 110,
   "id": "e134c207",
   "metadata": {},
   "outputs": [
    {
     "name": "stdout",
     "output_type": "stream",
     "text": [
      "2021-01-02 00:00:00 2022-09-30 00:00:00\n"
     ]
    }
   ],
   "source": [
    "#CODE HERE\n",
    "print(df.date.min() , df.date.max())"
   ]
  },
  {
   "cell_type": "markdown",
   "id": "b4892a19",
   "metadata": {},
   "source": [
    "#### Article is a categorical variable. Make a series of the total numbers of each type of bread bought on 2021-01-02."
   ]
  },
  {
   "cell_type": "code",
   "execution_count": 116,
   "id": "7c704896",
   "metadata": {},
   "outputs": [
    {
     "data": {
      "text/plain": [
       "article\n",
       "BAGUETTE      46.0\n",
       "BANETTE       40.0\n",
       "BANETTINE      6.0\n",
       "BOULE 200G     6.0\n",
       "BOULE 400G    11.0\n",
       "Name: Quantity, dtype: float64"
      ]
     },
     "execution_count": 116,
     "metadata": {},
     "output_type": "execute_result"
    }
   ],
   "source": [
    " #CODE HERE\n",
    "day1 = df.loc[df.date == pd.Timestamp('2021-01-02')]\n",
    "article = day1.groupby('article').Quantity.sum()\n",
    "article.head()"
   ]
  },
  {
   "cell_type": "markdown",
   "id": "456c02ea",
   "metadata": {},
   "source": [
    "#### Now make a bar plot for article"
   ]
  },
  {
   "cell_type": "code",
   "execution_count": 117,
   "id": "e2a54a9c",
   "metadata": {},
   "outputs": [
    {
     "data": {
      "image/png": "[encoded data removed]",
      "text/plain": [
       "<Figure size 640x480 with 1 Axes>"
      ]
     },
     "metadata": {},
     "output_type": "display_data"
    }
   ],
   "source": [
    "plt.bar(article.index,article)\n",
    "plt.show()"
   ]
  },
  {
   "cell_type": "markdown",
   "id": "63487115",
   "metadata": {},
   "source": [
    "#### Increase figure size and rotate xticks"
   ]
  },
  {
   "cell_type": "code",
   "execution_count": 118,
   "id": "32f29e70",
   "metadata": {},
   "outputs": [
    {
     "data": {
      "image/png": "[encoded data removed]",
      "text/plain": [
       "<Figure size 1000x400 with 1 Axes>"
      ]
     },
     "metadata": {},
     "output_type": "display_data"
    }
   ],
   "source": [
    "# run cell\n",
    "plt.rcParams['figure.figsize']=[10,4]\n",
    "plt.bar(article.index,article)\n",
    "plt.xticks(rotation=90)\n",
    "plt.show()"
   ]
  },
  {
   "cell_type": "markdown",
   "id": "7080c715",
   "metadata": {},
   "source": [
    "#### We can add axis labels and a title"
   ]
  },
  {
   "cell_type": "code",
   "execution_count": 119,
   "id": "3a1333a9",
   "metadata": {},
   "outputs": [
    {
     "data": {
      "image/png": "[encoded data removed]",
      "text/plain": [
       "<Figure size 1000x400 with 1 Axes>"
      ]
     },
     "metadata": {},
     "output_type": "display_data"
    }
   ],
   "source": [
    "plt.rcParams['figure.figsize']=[10,4]\n",
    "plt.bar(article.index,article)\n",
    "plt.xticks(rotation=90)\n",
    "plt.xlabel('Type of Bread')\n",
    "plt.ylabel('Total Sold')\n",
    "plt.title('Quantities of types of bread sold on 02.01.2021')\n",
    "plt.show()"
   ]
  },
  {
   "cell_type": "markdown",
   "id": "3e061e7f",
   "metadata": {},
   "source": [
    "#### Make pie chart of 8 best selling articles"
   ]
  },
  {
   "cell_type": "code",
   "execution_count": 123,
   "id": "0d1831ff",
   "metadata": {},
   "outputs": [
    {
     "data": {
      "image/png": "[encoded data removed]",
      "text/plain": [
       "<Figure size 1000x400 with 1 Axes>"
      ]
     },
     "metadata": {},
     "output_type": "display_data"
    }
   ],
   "source": [
    "#CODE HERE\n",
    "plt.pie(article.nlargest(8))\n",
    "plt.legend(article.nlargest(8).index)\n",
    "plt.show()\n"
   ]
  },
  {
   "cell_type": "markdown",
   "id": "5e5d5426",
   "metadata": {},
   "source": [
    "#### Make a series of the total income by month"
   ]
  },
  {
   "cell_type": "code",
   "execution_count": null,
   "id": "be2e47ad",
   "metadata": {},
   "outputs": [],
   "source": [
    "# first add a column 'total' containing the total sale by multiplying the quantity bought by the unit price \n",
    "df['total']= # CODE HERE\n"
   ]
  },
  {
   "cell_type": "markdown",
   "id": "1372f685",
   "metadata": {},
   "source": [
    "#### Make a line plot of income_by_month"
   ]
  },
  {
   "cell_type": "code",
   "execution_count": null,
   "id": "c9f6d2d9",
   "metadata": {},
   "outputs": [],
   "source": [
    "#CODE HERE\n"
   ]
  },
  {
   "cell_type": "markdown",
   "id": "1edc2f8a",
   "metadata": {},
   "source": [
    "#### When are the highest sales? When are the lowest?"
   ]
  },
  {
   "cell_type": "markdown",
   "id": "d413cb7a",
   "metadata": {},
   "source": []
  },
  {
   "cell_type": "markdown",
   "id": "97ef2e64",
   "metadata": {},
   "source": [
    "#### Make a series total_order by grouping by ticket_number and calculating the total sale from each ticket"
   ]
  },
  {
   "cell_type": "code",
   "execution_count": null,
   "id": "15ef2086",
   "metadata": {},
   "outputs": [],
   "source": [
    "#CODE HERE\n"
   ]
  },
  {
   "cell_type": "markdown",
   "id": "1d28a452",
   "metadata": {},
   "source": [
    "#### Make a boxplot showing the distribution of total_order"
   ]
  },
  {
   "cell_type": "code",
   "execution_count": null,
   "id": "b02c3756",
   "metadata": {},
   "outputs": [],
   "source": [
    "plt.boxplot(total_order)\n",
    "\n",
    "plt.show()"
   ]
  },
  {
   "cell_type": "markdown",
   "id": "3c24242e",
   "metadata": {},
   "source": [
    "#### There are too many outliers. Use only prices whose distance from the upper and lower quartiles is less than 1.5 times the IQR."
   ]
  },
  {
   "cell_type": "code",
   "execution_count": null,
   "id": "d4f0466b",
   "metadata": {},
   "outputs": [],
   "source": [
    "q1=total_order.quantile(0.25)\n",
    "q3=total_order.quantile(0.75)\n",
    "IQR = q3-q1\n",
    "filt =total_order.apply(lambda x: x > q1-1.5*IQR  and x < q3 +1.5*IQR)\n",
    "filtered_total=total_order[filt]\n",
    "\n",
    "plt.boxplot(filtered_total)\n",
    "plt.show()"
   ]
  },
  {
   "cell_type": "markdown",
   "id": "dd60b34d",
   "metadata": {},
   "source": [
    "#### Calculate the mean, median, mode and standard deviation of total order."
   ]
  },
  {
   "cell_type": "code",
   "execution_count": null,
   "id": "c6061d0f",
   "metadata": {
    "scrolled": true
   },
   "outputs": [],
   "source": [
    "from scipy import stats\n",
    "print(\"mean:\",#CODE HERE)\n",
    "print('median: ', #CODE HERE)\n",
    "print(#CODE HERE)\n",
    "print('standard deviation: ',#CODE HERE)"
   ]
  },
  {
   "cell_type": "markdown",
   "id": "29f45a7a",
   "metadata": {},
   "source": [
    "#### Plot histogram for total income by order between 0 and 5"
   ]
  },
  {
   "cell_type": "code",
   "execution_count": null,
   "id": "cb0764dc",
   "metadata": {},
   "outputs": [],
   "source": [
    "#CODE HERE\n",
    "\n"
   ]
  },
  {
   "cell_type": "code",
   "execution_count": null,
   "id": "46302fd1",
   "metadata": {},
   "outputs": [],
   "source": []
  },
  {
   "cell_type": "markdown",
   "id": "7aec321a",
   "metadata": {},
   "source": [
    "#### Make a scatter plot showing the relationship between unit_price and total. Are the variables linearly correlated? Positive or negative correlation?"
   ]
  },
  {
   "cell_type": "code",
   "execution_count": null,
   "id": "314ca402",
   "metadata": {},
   "outputs": [],
   "source": [
    "#CODE HERE"
   ]
  },
  {
   "cell_type": "markdown",
   "id": "0e18ab6b",
   "metadata": {},
   "source": [
    "#### Calculate the correlation coefficient for unit_price and total"
   ]
  },
  {
   "cell_type": "code",
   "execution_count": null,
   "id": "d8d609fb",
   "metadata": {},
   "outputs": [],
   "source": [
    "np.corrcoef(df.unit_price,df.total)"
   ]
  },
  {
   "cell_type": "code",
   "execution_count": null,
   "id": "d035e3b2",
   "metadata": {},
   "outputs": [],
   "source": [
    "np.corrcoef(df.unit_price,df.total)[1][0]"
   ]
  },
  {
   "cell_type": "code",
   "execution_count": null,
   "id": "ae91a73c",
   "metadata": {},
   "outputs": [],
   "source": []
  }
 ],
 "metadata": {
  "kernelspec": {
   "display_name": "Python 3 (ipykernel)",
   "language": "python",
   "name": "python3"
  },
  "language_info": {
   "codemirror_mode": {
    "name": "ipython",
    "version": 3
   },
   "file_extension": ".py",
   "mimetype": "text/x-python",
   "name": "python",
   "nbconvert_exporter": "python",
   "pygments_lexer": "ipython3",
   "version": "3.9.13"
  }
 },
 "nbformat": 4,
 "nbformat_minor": 5
}
