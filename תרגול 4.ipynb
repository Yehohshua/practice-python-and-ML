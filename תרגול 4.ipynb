{
 "cells": [
  {
   "cell_type": "markdown",
   "id": "84b6a9c9",
   "metadata": {},
   "source": [
    "# Lambda, groupby and datetime."
   ]
  },
  {
   "cell_type": "code",
   "execution_count": 1,
   "id": "7f9bff05",
   "metadata": {},
   "outputs": [],
   "source": [
    "# Import Pandas and NumPy\n",
    "import pandas as pd\n",
    "import numpy as np"
   ]
  },
  {
   "cell_type": "code",
   "execution_count": 2,
   "id": "2f95f743",
   "metadata": {},
   "outputs": [
    {
     "data": {
      "text/html": [
       "<div>\n",
       "<style scoped>\n",
       "    .dataframe tbody tr th:only-of-type {\n",
       "        vertical-align: middle;\n",
       "    }\n",
       "\n",
       "    .dataframe tbody tr th {\n",
       "        vertical-align: top;\n",
       "    }\n",
       "\n",
       "    .dataframe thead th {\n",
       "        text-align: right;\n",
       "    }\n",
       "</style>\n",
       "<table border=\"1\" class=\"dataframe\">\n",
       "  <thead>\n",
       "    <tr style=\"text-align: right;\">\n",
       "      <th></th>\n",
       "      <th>Address</th>\n",
       "      <th>Lot</th>\n",
       "      <th>AM or PM</th>\n",
       "      <th>Browser Info</th>\n",
       "      <th>Company</th>\n",
       "      <th>Credit Card</th>\n",
       "      <th>CC Exp Date</th>\n",
       "      <th>CC Security Code</th>\n",
       "      <th>CC Provider</th>\n",
       "      <th>Email</th>\n",
       "      <th>Job</th>\n",
       "      <th>IP Address</th>\n",
       "      <th>Language</th>\n",
       "      <th>Purchase Price</th>\n",
       "    </tr>\n",
       "  </thead>\n",
       "  <tbody>\n",
       "    <tr>\n",
       "      <th>0</th>\n",
       "      <td>16629 Pace Camp Apt. 448\\nAlexisborough, NE 77...</td>\n",
       "      <td>46 in</td>\n",
       "      <td>PM</td>\n",
       "      <td>Opera/9.56.(X11; Linux x86_64; sl-SI) Presto/2...</td>\n",
       "      <td>Martinez-Herman</td>\n",
       "      <td>6011929061123406</td>\n",
       "      <td>02/20</td>\n",
       "      <td>900</td>\n",
       "      <td>JCB 16 digit</td>\n",
       "      <td>pdunlap@yahoo.com</td>\n",
       "      <td>Scientist, product/process development</td>\n",
       "      <td>149.146.147.205</td>\n",
       "      <td>el</td>\n",
       "      <td>98.14</td>\n",
       "    </tr>\n",
       "    <tr>\n",
       "      <th>1</th>\n",
       "      <td>9374 Jasmine Spurs Suite 508\\nSouth John, TN 8...</td>\n",
       "      <td>28 rn</td>\n",
       "      <td>PM</td>\n",
       "      <td>Opera/8.93.(Windows 98; Win 9x 4.90; en-US) Pr...</td>\n",
       "      <td>Fletcher, Richards and Whitaker</td>\n",
       "      <td>3337758169645356</td>\n",
       "      <td>11/18</td>\n",
       "      <td>561</td>\n",
       "      <td>Mastercard</td>\n",
       "      <td>anthony41@reed.com</td>\n",
       "      <td>Drilling engineer</td>\n",
       "      <td>15.160.41.51</td>\n",
       "      <td>fr</td>\n",
       "      <td>70.73</td>\n",
       "    </tr>\n",
       "    <tr>\n",
       "      <th>2</th>\n",
       "      <td>Unit 0065 Box 5052\\nDPO AP 27450</td>\n",
       "      <td>94 vE</td>\n",
       "      <td>PM</td>\n",
       "      <td>Mozilla/5.0 (compatible; MSIE 9.0; Windows NT ...</td>\n",
       "      <td>Simpson, Williams and Pham</td>\n",
       "      <td>675957666125</td>\n",
       "      <td>08/19</td>\n",
       "      <td>699</td>\n",
       "      <td>JCB 16 digit</td>\n",
       "      <td>amymiller@morales-harrison.com</td>\n",
       "      <td>Customer service manager</td>\n",
       "      <td>132.207.160.22</td>\n",
       "      <td>de</td>\n",
       "      <td>0.95</td>\n",
       "    </tr>\n",
       "  </tbody>\n",
       "</table>\n",
       "</div>"
      ],
      "text/plain": [
       "                                             Address    Lot AM or PM  \\\n",
       "0  16629 Pace Camp Apt. 448\\nAlexisborough, NE 77...  46 in       PM   \n",
       "1  9374 Jasmine Spurs Suite 508\\nSouth John, TN 8...  28 rn       PM   \n",
       "2                   Unit 0065 Box 5052\\nDPO AP 27450  94 vE       PM   \n",
       "\n",
       "                                        Browser Info  \\\n",
       "0  Opera/9.56.(X11; Linux x86_64; sl-SI) Presto/2...   \n",
       "1  Opera/8.93.(Windows 98; Win 9x 4.90; en-US) Pr...   \n",
       "2  Mozilla/5.0 (compatible; MSIE 9.0; Windows NT ...   \n",
       "\n",
       "                           Company       Credit Card CC Exp Date  \\\n",
       "0                  Martinez-Herman  6011929061123406       02/20   \n",
       "1  Fletcher, Richards and Whitaker  3337758169645356       11/18   \n",
       "2       Simpson, Williams and Pham      675957666125       08/19   \n",
       "\n",
       "   CC Security Code   CC Provider                           Email  \\\n",
       "0               900  JCB 16 digit               pdunlap@yahoo.com   \n",
       "1               561    Mastercard              anthony41@reed.com   \n",
       "2               699  JCB 16 digit  amymiller@morales-harrison.com   \n",
       "\n",
       "                                      Job       IP Address Language  \\\n",
       "0  Scientist, product/process development  149.146.147.205       el   \n",
       "1                       Drilling engineer     15.160.41.51       fr   \n",
       "2                Customer service manager   132.207.160.22       de   \n",
       "\n",
       "   Purchase Price  \n",
       "0           98.14  \n",
       "1           70.73  \n",
       "2            0.95  "
      ]
     },
     "execution_count": 2,
     "metadata": {},
     "output_type": "execute_result"
    }
   ],
   "source": [
    "# Import the data from file 'Ecommerce_Purchases.csv' and print the first 3 rows\n",
    "#run cell\n",
    "df = pd.read_csv('Ecommerce_Purchases.csv')\n",
    "df.head(3)"
   ]
  },
  {
   "cell_type": "markdown",
   "id": "f448313c",
   "metadata": {},
   "source": [
    "## pd.apply() with lambda"
   ]
  },
  {
   "cell_type": "code",
   "execution_count": 3,
   "id": "c49c3c36",
   "metadata": {},
   "outputs": [
    {
     "data": {
      "text/plain": [
       "1033"
      ]
     },
     "execution_count": 3,
     "metadata": {},
     "output_type": "execute_result"
    }
   ],
   "source": [
    "# How may people with credit card expiry date in 2025 are there? Use apply function with lambda.\n",
    "\n",
    "df[\"CC Exp Date\"].apply(lambda x: '25' in x).sum()"
   ]
  },
  {
   "cell_type": "code",
   "execution_count": 4,
   "id": "591d549c",
   "metadata": {},
   "outputs": [
    {
     "data": {
      "text/plain": [
       "hotmail.com     1638\n",
       "yahoo.com       1616\n",
       "gmail.com       1605\n",
       "smith.com         42\n",
       "williams.com      37\n",
       "Name: Email, dtype: int64"
      ]
     },
     "execution_count": 4,
     "metadata": {},
     "output_type": "execute_result"
    }
   ],
   "source": [
    "# What are the top 5 emails domains?\n",
    "\n",
    "df['Email'].apply(lambda x: x.split('@')[1]).value_counts().head()"
   ]
  },
  {
   "cell_type": "markdown",
   "id": "6fe35a4b",
   "metadata": {},
   "source": [
    "#### What is the browser most people use?"
   ]
  },
  {
   "cell_type": "code",
   "execution_count": 12,
   "id": "abbd07b1",
   "metadata": {},
   "outputs": [
    {
     "data": {
      "text/plain": [
       "'Mozilla'"
      ]
     },
     "execution_count": 12,
     "metadata": {},
     "output_type": "execute_result"
    }
   ],
   "source": [
    "# CODE HERE\n",
    "browser_type = df['Browser Info'].apply(lambda x:x.split('/')[0])\n",
    "browser_type.value_counts().index[0]"
   ]
  },
  {
   "cell_type": "markdown",
   "id": "3356e4e4",
   "metadata": {},
   "source": [
    "#### let's make a new column with browser type - we will use this later"
   ]
  },
  {
   "cell_type": "code",
   "execution_count": 11,
   "id": "0bb4fff5",
   "metadata": {},
   "outputs": [
    {
     "data": {
      "text/html": [
       "<div>\n",
       "<style scoped>\n",
       "    .dataframe tbody tr th:only-of-type {\n",
       "        vertical-align: middle;\n",
       "    }\n",
       "\n",
       "    .dataframe tbody tr th {\n",
       "        vertical-align: top;\n",
       "    }\n",
       "\n",
       "    .dataframe thead th {\n",
       "        text-align: right;\n",
       "    }\n",
       "</style>\n",
       "<table border=\"1\" class=\"dataframe\">\n",
       "  <thead>\n",
       "    <tr style=\"text-align: right;\">\n",
       "      <th></th>\n",
       "      <th>Address</th>\n",
       "      <th>Lot</th>\n",
       "      <th>AM or PM</th>\n",
       "      <th>Browser Info</th>\n",
       "      <th>Company</th>\n",
       "      <th>Credit Card</th>\n",
       "      <th>CC Exp Date</th>\n",
       "      <th>CC Security Code</th>\n",
       "      <th>CC Provider</th>\n",
       "      <th>Email</th>\n",
       "      <th>Job</th>\n",
       "      <th>IP Address</th>\n",
       "      <th>Language</th>\n",
       "      <th>Purchase Price</th>\n",
       "      <th>browser type</th>\n",
       "    </tr>\n",
       "  </thead>\n",
       "  <tbody>\n",
       "    <tr>\n",
       "      <th>0</th>\n",
       "      <td>16629 Pace Camp Apt. 448\\nAlexisborough, NE 77...</td>\n",
       "      <td>46 in</td>\n",
       "      <td>PM</td>\n",
       "      <td>Opera/9.56.(X11; Linux x86_64; sl-SI) Presto/2...</td>\n",
       "      <td>Martinez-Herman</td>\n",
       "      <td>6011929061123406</td>\n",
       "      <td>02/20</td>\n",
       "      <td>900</td>\n",
       "      <td>JCB 16 digit</td>\n",
       "      <td>pdunlap@yahoo.com</td>\n",
       "      <td>Scientist, product/process development</td>\n",
       "      <td>149.146.147.205</td>\n",
       "      <td>el</td>\n",
       "      <td>98.14</td>\n",
       "      <td>Opera</td>\n",
       "    </tr>\n",
       "    <tr>\n",
       "      <th>1</th>\n",
       "      <td>9374 Jasmine Spurs Suite 508\\nSouth John, TN 8...</td>\n",
       "      <td>28 rn</td>\n",
       "      <td>PM</td>\n",
       "      <td>Opera/8.93.(Windows 98; Win 9x 4.90; en-US) Pr...</td>\n",
       "      <td>Fletcher, Richards and Whitaker</td>\n",
       "      <td>3337758169645356</td>\n",
       "      <td>11/18</td>\n",
       "      <td>561</td>\n",
       "      <td>Mastercard</td>\n",
       "      <td>anthony41@reed.com</td>\n",
       "      <td>Drilling engineer</td>\n",
       "      <td>15.160.41.51</td>\n",
       "      <td>fr</td>\n",
       "      <td>70.73</td>\n",
       "      <td>Opera</td>\n",
       "    </tr>\n",
       "    <tr>\n",
       "      <th>2</th>\n",
       "      <td>Unit 0065 Box 5052\\nDPO AP 27450</td>\n",
       "      <td>94 vE</td>\n",
       "      <td>PM</td>\n",
       "      <td>Mozilla/5.0 (compatible; MSIE 9.0; Windows NT ...</td>\n",
       "      <td>Simpson, Williams and Pham</td>\n",
       "      <td>675957666125</td>\n",
       "      <td>08/19</td>\n",
       "      <td>699</td>\n",
       "      <td>JCB 16 digit</td>\n",
       "      <td>amymiller@morales-harrison.com</td>\n",
       "      <td>Customer service manager</td>\n",
       "      <td>132.207.160.22</td>\n",
       "      <td>de</td>\n",
       "      <td>0.95</td>\n",
       "      <td>Mozilla</td>\n",
       "    </tr>\n",
       "    <tr>\n",
       "      <th>3</th>\n",
       "      <td>7780 Julia Fords\\nNew Stacy, WA 45798</td>\n",
       "      <td>36 vm</td>\n",
       "      <td>PM</td>\n",
       "      <td>Mozilla/5.0 (Macintosh; Intel Mac OS X 10_8_0 ...</td>\n",
       "      <td>Williams, Marshall and Buchanan</td>\n",
       "      <td>6011578504430710</td>\n",
       "      <td>02/24</td>\n",
       "      <td>384</td>\n",
       "      <td>Discover</td>\n",
       "      <td>brent16@olson-robinson.info</td>\n",
       "      <td>Drilling engineer</td>\n",
       "      <td>30.250.74.19</td>\n",
       "      <td>es</td>\n",
       "      <td>78.04</td>\n",
       "      <td>Mozilla</td>\n",
       "    </tr>\n",
       "    <tr>\n",
       "      <th>4</th>\n",
       "      <td>23012 Munoz Drive Suite 337\\nNew Cynthia, TX 5...</td>\n",
       "      <td>20 IE</td>\n",
       "      <td>AM</td>\n",
       "      <td>Opera/9.58.(X11; Linux x86_64; it-IT) Presto/2...</td>\n",
       "      <td>Brown, Watson and Andrews</td>\n",
       "      <td>6011456623207998</td>\n",
       "      <td>10/25</td>\n",
       "      <td>678</td>\n",
       "      <td>Diners Club / Carte Blanche</td>\n",
       "      <td>christopherwright@gmail.com</td>\n",
       "      <td>Fine artist</td>\n",
       "      <td>24.140.33.94</td>\n",
       "      <td>es</td>\n",
       "      <td>77.82</td>\n",
       "      <td>Opera</td>\n",
       "    </tr>\n",
       "  </tbody>\n",
       "</table>\n",
       "</div>"
      ],
      "text/plain": [
       "                                             Address    Lot AM or PM  \\\n",
       "0  16629 Pace Camp Apt. 448\\nAlexisborough, NE 77...  46 in       PM   \n",
       "1  9374 Jasmine Spurs Suite 508\\nSouth John, TN 8...  28 rn       PM   \n",
       "2                   Unit 0065 Box 5052\\nDPO AP 27450  94 vE       PM   \n",
       "3              7780 Julia Fords\\nNew Stacy, WA 45798  36 vm       PM   \n",
       "4  23012 Munoz Drive Suite 337\\nNew Cynthia, TX 5...  20 IE       AM   \n",
       "\n",
       "                                        Browser Info  \\\n",
       "0  Opera/9.56.(X11; Linux x86_64; sl-SI) Presto/2...   \n",
       "1  Opera/8.93.(Windows 98; Win 9x 4.90; en-US) Pr...   \n",
       "2  Mozilla/5.0 (compatible; MSIE 9.0; Windows NT ...   \n",
       "3  Mozilla/5.0 (Macintosh; Intel Mac OS X 10_8_0 ...   \n",
       "4  Opera/9.58.(X11; Linux x86_64; it-IT) Presto/2...   \n",
       "\n",
       "                           Company       Credit Card CC Exp Date  \\\n",
       "0                  Martinez-Herman  6011929061123406       02/20   \n",
       "1  Fletcher, Richards and Whitaker  3337758169645356       11/18   \n",
       "2       Simpson, Williams and Pham      675957666125       08/19   \n",
       "3  Williams, Marshall and Buchanan  6011578504430710       02/24   \n",
       "4        Brown, Watson and Andrews  6011456623207998       10/25   \n",
       "\n",
       "   CC Security Code                  CC Provider  \\\n",
       "0               900                 JCB 16 digit   \n",
       "1               561                   Mastercard   \n",
       "2               699                 JCB 16 digit   \n",
       "3               384                     Discover   \n",
       "4               678  Diners Club / Carte Blanche   \n",
       "\n",
       "                            Email                                     Job  \\\n",
       "0               pdunlap@yahoo.com  Scientist, product/process development   \n",
       "1              anthony41@reed.com                       Drilling engineer   \n",
       "2  amymiller@morales-harrison.com                Customer service manager   \n",
       "3     brent16@olson-robinson.info                       Drilling engineer   \n",
       "4     christopherwright@gmail.com                             Fine artist   \n",
       "\n",
       "        IP Address Language  Purchase Price browser type  \n",
       "0  149.146.147.205       el           98.14        Opera  \n",
       "1     15.160.41.51       fr           70.73        Opera  \n",
       "2   132.207.160.22       de            0.95      Mozilla  \n",
       "3     30.250.74.19       es           78.04      Mozilla  \n",
       "4     24.140.33.94       es           77.82        Opera  "
      ]
     },
     "execution_count": 11,
     "metadata": {},
     "output_type": "execute_result"
    }
   ],
   "source": [
    "#CODE HERE\n",
    "df['browser type'] = browser_type\n",
    "df.head()"
   ]
  },
  {
   "cell_type": "markdown",
   "id": "0ad9ef79",
   "metadata": {},
   "source": [
    "####  How many people are managers ?\n",
    "Hint: it might be written as Manager/MANAGER/manager as part of a job title"
   ]
  },
  {
   "cell_type": "code",
   "execution_count": 17,
   "id": "89335d58",
   "metadata": {},
   "outputs": [
    {
     "data": {
      "text/plain": [
       "785"
      ]
     },
     "execution_count": 17,
     "metadata": {},
     "output_type": "execute_result"
    }
   ],
   "source": [
    "# Option 1 - using apply() with lambda\n",
    "# CODE HERE\n",
    "df['Job'].apply(lambda x: ('manager' or 'Manager' or 'MANAGER') in x).sum()"
   ]
  },
  {
   "cell_type": "code",
   "execution_count": 27,
   "id": "16d753da",
   "metadata": {},
   "outputs": [
    {
     "data": {
      "text/plain": [
       "785"
      ]
     },
     "execution_count": 27,
     "metadata": {},
     "output_type": "execute_result"
    }
   ],
   "source": [
    "# Option 2 - using list comprehension\n",
    "# CODE HERE\n",
    "sum([True for job in df['Job'] if 'manager' in job.lower()])"
   ]
  },
  {
   "cell_type": "markdown",
   "id": "483ebb68",
   "metadata": {},
   "source": [
    "## groupby()"
   ]
  },
  {
   "cell_type": "markdown",
   "id": "6b06e8e1",
   "metadata": {},
   "source": [
    "#### We have used value_counts() several times, for example"
   ]
  },
  {
   "cell_type": "code",
   "execution_count": 28,
   "id": "05135ec3",
   "metadata": {},
   "outputs": [
    {
     "data": {
      "text/plain": [
       "JCB 16 digit                   1716\n",
       "VISA 16 digit                  1715\n",
       "JCB 15 digit                    868\n",
       "American Express                849\n",
       "Maestro                         846\n",
       "Voyager                         829\n",
       "Discover                        817\n",
       "Mastercard                      816\n",
       "VISA 13 digit                   777\n",
       "Diners Club / Carte Blanche     767\n",
       "Name: CC Provider, dtype: int64"
      ]
     },
     "execution_count": 28,
     "metadata": {},
     "output_type": "execute_result"
    }
   ],
   "source": [
    "df['CC Provider'].value_counts()"
   ]
  },
  {
   "cell_type": "markdown",
   "id": "30b7a745",
   "metadata": {},
   "source": [
    "#### Run to see what this does"
   ]
  },
  {
   "cell_type": "code",
   "execution_count": 29,
   "id": "cda65248",
   "metadata": {},
   "outputs": [
    {
     "data": {
      "text/plain": [
       "CC Provider\n",
       "American Express                849\n",
       "Diners Club / Carte Blanche     767\n",
       "Discover                        817\n",
       "JCB 15 digit                    868\n",
       "JCB 16 digit                   1716\n",
       "Maestro                         846\n",
       "Mastercard                      816\n",
       "VISA 13 digit                   777\n",
       "VISA 16 digit                  1715\n",
       "Voyager                         829\n",
       "dtype: int64"
      ]
     },
     "execution_count": 29,
     "metadata": {},
     "output_type": "execute_result"
    }
   ],
   "source": [
    "df.groupby('CC Provider').size()"
   ]
  },
  {
   "cell_type": "markdown",
   "id": "8159133b",
   "metadata": {},
   "source": [
    "#### How can we use groupby to get the same result as value_counts()?"
   ]
  },
  {
   "cell_type": "code",
   "execution_count": 31,
   "id": "134e95aa",
   "metadata": {},
   "outputs": [
    {
     "data": {
      "text/plain": [
       "CC Provider\n",
       "JCB 16 digit                   1716\n",
       "VISA 16 digit                  1715\n",
       "JCB 15 digit                    868\n",
       "American Express                849\n",
       "Maestro                         846\n",
       "Voyager                         829\n",
       "Discover                        817\n",
       "Mastercard                      816\n",
       "VISA 13 digit                   777\n",
       "Diners Club / Carte Blanche     767\n",
       "dtype: int64"
      ]
     },
     "execution_count": 31,
     "metadata": {},
     "output_type": "execute_result"
    }
   ],
   "source": [
    "#CODE HERE\n",
    "df.groupby('CC Provider').size().sort_values(ascending = 0)"
   ]
  },
  {
   "cell_type": "markdown",
   "id": "ca47b99d",
   "metadata": {},
   "source": [
    "#### What do we get using count() instead of size()"
   ]
  },
  {
   "cell_type": "code",
   "execution_count": 32,
   "id": "455bebcd",
   "metadata": {},
   "outputs": [
    {
     "data": {
      "text/html": [
       "<div>\n",
       "<style scoped>\n",
       "    .dataframe tbody tr th:only-of-type {\n",
       "        vertical-align: middle;\n",
       "    }\n",
       "\n",
       "    .dataframe tbody tr th {\n",
       "        vertical-align: top;\n",
       "    }\n",
       "\n",
       "    .dataframe thead th {\n",
       "        text-align: right;\n",
       "    }\n",
       "</style>\n",
       "<table border=\"1\" class=\"dataframe\">\n",
       "  <thead>\n",
       "    <tr style=\"text-align: right;\">\n",
       "      <th></th>\n",
       "      <th>Address</th>\n",
       "      <th>Lot</th>\n",
       "      <th>AM or PM</th>\n",
       "      <th>Browser Info</th>\n",
       "      <th>Company</th>\n",
       "      <th>Credit Card</th>\n",
       "      <th>CC Exp Date</th>\n",
       "      <th>CC Security Code</th>\n",
       "      <th>Email</th>\n",
       "      <th>Job</th>\n",
       "      <th>IP Address</th>\n",
       "      <th>Language</th>\n",
       "      <th>Purchase Price</th>\n",
       "      <th>browser type</th>\n",
       "    </tr>\n",
       "    <tr>\n",
       "      <th>CC Provider</th>\n",
       "      <th></th>\n",
       "      <th></th>\n",
       "      <th></th>\n",
       "      <th></th>\n",
       "      <th></th>\n",
       "      <th></th>\n",
       "      <th></th>\n",
       "      <th></th>\n",
       "      <th></th>\n",
       "      <th></th>\n",
       "      <th></th>\n",
       "      <th></th>\n",
       "      <th></th>\n",
       "      <th></th>\n",
       "    </tr>\n",
       "  </thead>\n",
       "  <tbody>\n",
       "    <tr>\n",
       "      <th>American Express</th>\n",
       "      <td>849</td>\n",
       "      <td>849</td>\n",
       "      <td>849</td>\n",
       "      <td>849</td>\n",
       "      <td>849</td>\n",
       "      <td>849</td>\n",
       "      <td>849</td>\n",
       "      <td>849</td>\n",
       "      <td>849</td>\n",
       "      <td>849</td>\n",
       "      <td>849</td>\n",
       "      <td>849</td>\n",
       "      <td>849</td>\n",
       "      <td>849</td>\n",
       "    </tr>\n",
       "    <tr>\n",
       "      <th>Diners Club / Carte Blanche</th>\n",
       "      <td>767</td>\n",
       "      <td>767</td>\n",
       "      <td>767</td>\n",
       "      <td>767</td>\n",
       "      <td>767</td>\n",
       "      <td>767</td>\n",
       "      <td>767</td>\n",
       "      <td>767</td>\n",
       "      <td>767</td>\n",
       "      <td>767</td>\n",
       "      <td>767</td>\n",
       "      <td>767</td>\n",
       "      <td>767</td>\n",
       "      <td>767</td>\n",
       "    </tr>\n",
       "    <tr>\n",
       "      <th>Discover</th>\n",
       "      <td>817</td>\n",
       "      <td>817</td>\n",
       "      <td>817</td>\n",
       "      <td>817</td>\n",
       "      <td>817</td>\n",
       "      <td>817</td>\n",
       "      <td>817</td>\n",
       "      <td>817</td>\n",
       "      <td>817</td>\n",
       "      <td>817</td>\n",
       "      <td>817</td>\n",
       "      <td>817</td>\n",
       "      <td>817</td>\n",
       "      <td>817</td>\n",
       "    </tr>\n",
       "    <tr>\n",
       "      <th>JCB 15 digit</th>\n",
       "      <td>868</td>\n",
       "      <td>868</td>\n",
       "      <td>868</td>\n",
       "      <td>868</td>\n",
       "      <td>868</td>\n",
       "      <td>868</td>\n",
       "      <td>868</td>\n",
       "      <td>868</td>\n",
       "      <td>868</td>\n",
       "      <td>868</td>\n",
       "      <td>868</td>\n",
       "      <td>868</td>\n",
       "      <td>868</td>\n",
       "      <td>868</td>\n",
       "    </tr>\n",
       "    <tr>\n",
       "      <th>JCB 16 digit</th>\n",
       "      <td>1716</td>\n",
       "      <td>1716</td>\n",
       "      <td>1716</td>\n",
       "      <td>1716</td>\n",
       "      <td>1716</td>\n",
       "      <td>1716</td>\n",
       "      <td>1716</td>\n",
       "      <td>1716</td>\n",
       "      <td>1716</td>\n",
       "      <td>1716</td>\n",
       "      <td>1716</td>\n",
       "      <td>1716</td>\n",
       "      <td>1716</td>\n",
       "      <td>1716</td>\n",
       "    </tr>\n",
       "    <tr>\n",
       "      <th>Maestro</th>\n",
       "      <td>846</td>\n",
       "      <td>846</td>\n",
       "      <td>846</td>\n",
       "      <td>846</td>\n",
       "      <td>846</td>\n",
       "      <td>846</td>\n",
       "      <td>846</td>\n",
       "      <td>846</td>\n",
       "      <td>846</td>\n",
       "      <td>846</td>\n",
       "      <td>846</td>\n",
       "      <td>846</td>\n",
       "      <td>846</td>\n",
       "      <td>846</td>\n",
       "    </tr>\n",
       "    <tr>\n",
       "      <th>Mastercard</th>\n",
       "      <td>816</td>\n",
       "      <td>816</td>\n",
       "      <td>816</td>\n",
       "      <td>816</td>\n",
       "      <td>816</td>\n",
       "      <td>816</td>\n",
       "      <td>816</td>\n",
       "      <td>816</td>\n",
       "      <td>816</td>\n",
       "      <td>816</td>\n",
       "      <td>816</td>\n",
       "      <td>816</td>\n",
       "      <td>816</td>\n",
       "      <td>816</td>\n",
       "    </tr>\n",
       "    <tr>\n",
       "      <th>VISA 13 digit</th>\n",
       "      <td>777</td>\n",
       "      <td>777</td>\n",
       "      <td>777</td>\n",
       "      <td>777</td>\n",
       "      <td>777</td>\n",
       "      <td>777</td>\n",
       "      <td>777</td>\n",
       "      <td>777</td>\n",
       "      <td>777</td>\n",
       "      <td>777</td>\n",
       "      <td>777</td>\n",
       "      <td>777</td>\n",
       "      <td>777</td>\n",
       "      <td>777</td>\n",
       "    </tr>\n",
       "    <tr>\n",
       "      <th>VISA 16 digit</th>\n",
       "      <td>1715</td>\n",
       "      <td>1715</td>\n",
       "      <td>1715</td>\n",
       "      <td>1715</td>\n",
       "      <td>1715</td>\n",
       "      <td>1715</td>\n",
       "      <td>1715</td>\n",
       "      <td>1715</td>\n",
       "      <td>1715</td>\n",
       "      <td>1715</td>\n",
       "      <td>1715</td>\n",
       "      <td>1715</td>\n",
       "      <td>1715</td>\n",
       "      <td>1715</td>\n",
       "    </tr>\n",
       "    <tr>\n",
       "      <th>Voyager</th>\n",
       "      <td>829</td>\n",
       "      <td>829</td>\n",
       "      <td>829</td>\n",
       "      <td>829</td>\n",
       "      <td>829</td>\n",
       "      <td>829</td>\n",
       "      <td>829</td>\n",
       "      <td>829</td>\n",
       "      <td>829</td>\n",
       "      <td>829</td>\n",
       "      <td>829</td>\n",
       "      <td>829</td>\n",
       "      <td>829</td>\n",
       "      <td>829</td>\n",
       "    </tr>\n",
       "  </tbody>\n",
       "</table>\n",
       "</div>"
      ],
      "text/plain": [
       "                             Address   Lot  AM or PM  Browser Info  Company  \\\n",
       "CC Provider                                                                   \n",
       "American Express                 849   849       849           849      849   \n",
       "Diners Club / Carte Blanche      767   767       767           767      767   \n",
       "Discover                         817   817       817           817      817   \n",
       "JCB 15 digit                     868   868       868           868      868   \n",
       "JCB 16 digit                    1716  1716      1716          1716     1716   \n",
       "Maestro                          846   846       846           846      846   \n",
       "Mastercard                       816   816       816           816      816   \n",
       "VISA 13 digit                    777   777       777           777      777   \n",
       "VISA 16 digit                   1715  1715      1715          1715     1715   \n",
       "Voyager                          829   829       829           829      829   \n",
       "\n",
       "                             Credit Card  CC Exp Date  CC Security Code  \\\n",
       "CC Provider                                                               \n",
       "American Express                     849          849               849   \n",
       "Diners Club / Carte Blanche          767          767               767   \n",
       "Discover                             817          817               817   \n",
       "JCB 15 digit                         868          868               868   \n",
       "JCB 16 digit                        1716         1716              1716   \n",
       "Maestro                              846          846               846   \n",
       "Mastercard                           816          816               816   \n",
       "VISA 13 digit                        777          777               777   \n",
       "VISA 16 digit                       1715         1715              1715   \n",
       "Voyager                              829          829               829   \n",
       "\n",
       "                             Email   Job  IP Address  Language  \\\n",
       "CC Provider                                                      \n",
       "American Express               849   849         849       849   \n",
       "Diners Club / Carte Blanche    767   767         767       767   \n",
       "Discover                       817   817         817       817   \n",
       "JCB 15 digit                   868   868         868       868   \n",
       "JCB 16 digit                  1716  1716        1716      1716   \n",
       "Maestro                        846   846         846       846   \n",
       "Mastercard                     816   816         816       816   \n",
       "VISA 13 digit                  777   777         777       777   \n",
       "VISA 16 digit                 1715  1715        1715      1715   \n",
       "Voyager                        829   829         829       829   \n",
       "\n",
       "                             Purchase Price  browser type  \n",
       "CC Provider                                                \n",
       "American Express                        849           849  \n",
       "Diners Club / Carte Blanche             767           767  \n",
       "Discover                                817           817  \n",
       "JCB 15 digit                            868           868  \n",
       "JCB 16 digit                           1716          1716  \n",
       "Maestro                                 846           846  \n",
       "Mastercard                              816           816  \n",
       "VISA 13 digit                           777           777  \n",
       "VISA 16 digit                          1715          1715  \n",
       "Voyager                                 829           829  "
      ]
     },
     "execution_count": 32,
     "metadata": {},
     "output_type": "execute_result"
    }
   ],
   "source": [
    "# CODE HERE\n",
    "df.groupby('CC Provider').count()"
   ]
  },
  {
   "cell_type": "markdown",
   "id": "a88a1977",
   "metadata": {},
   "source": [
    "#### Groupby can do more than count - find out what is the average purchase price for each credit card provider."
   ]
  },
  {
   "cell_type": "code",
   "execution_count": 38,
   "id": "d3224f22",
   "metadata": {},
   "outputs": [
    {
     "data": {
      "text/plain": [
       "CC Provider\n",
       "American Express               50.489423\n",
       "Diners Club / Carte Blanche    48.733233\n",
       "Discover                       51.662338\n",
       "JCB 15 digit                   51.125115\n",
       "JCB 16 digit                   49.299143\n",
       "Maestro                        50.379173\n",
       "Mastercard                     50.043015\n",
       "VISA 13 digit                  51.449858\n",
       "VISA 16 digit                  49.871055\n",
       "Voyager                        51.973185\n",
       "Name: Purchase Price, dtype: float64"
      ]
     },
     "execution_count": 38,
     "metadata": {},
     "output_type": "execute_result"
    }
   ],
   "source": [
    "#CODE HERE\n",
    "df.groupby('CC Provider')['Purchase Price'].mean()"
   ]
  },
  {
   "cell_type": "markdown",
   "id": "1d628a59",
   "metadata": {},
   "source": [
    "#### Can you get the first email address in each group by credit card provider?"
   ]
  },
  {
   "cell_type": "code",
   "execution_count": 44,
   "id": "db60ba65",
   "metadata": {},
   "outputs": [
    {
     "data": {
      "text/plain": [
       "CC Provider\n",
       "American Express                  qcoleman@hunt-huerta.com\n",
       "Diners Club / Carte Blanche    christopherwright@gmail.com\n",
       "Discover                       brent16@olson-robinson.info\n",
       "JCB 15 digit                      johnnymiller@coleman.com\n",
       "JCB 16 digit                             pdunlap@yahoo.com\n",
       "Maestro                             zstephenson@smith.info\n",
       "Mastercard                              anthony41@reed.com\n",
       "VISA 13 digit                         phillip48@parks.info\n",
       "VISA 16 digit                           olivia04@yahoo.com\n",
       "Voyager                               ustewart@hotmail.com\n",
       "Name: Email, dtype: object"
      ]
     },
     "execution_count": 44,
     "metadata": {},
     "output_type": "execute_result"
    }
   ],
   "source": [
    "#CODE HERE\n",
    "df.groupby('CC Provider')['Email'].first()"
   ]
  },
  {
   "cell_type": "markdown",
   "id": "11baf282",
   "metadata": {},
   "source": [
    "### and now the second"
   ]
  },
  {
   "cell_type": "code",
   "execution_count": 55,
   "id": "7a1b0386",
   "metadata": {},
   "outputs": [
    {
     "data": {
      "text/plain": [
       "CC Provider\n",
       "American Express                       stacymitchell@hall.com\n",
       "Diners Club / Carte Blanche                amanda39@yahoo.com\n",
       "Discover                                    ynguyen@gmail.com\n",
       "JCB 15 digit                                james07@yahoo.com\n",
       "JCB 16 digit                   amymiller@morales-harrison.com\n",
       "Maestro                                  stonekaren@yahoo.com\n",
       "Mastercard                                 hannah63@yahoo.com\n",
       "VISA 13 digit                     ltaylor@gardner-meadows.com\n",
       "VISA 16 digit                               tholt@hotmail.com\n",
       "Voyager                                  madison41@mooney.com\n",
       "Name: Email, dtype: object"
      ]
     },
     "execution_count": 55,
     "metadata": {},
     "output_type": "execute_result"
    }
   ],
   "source": [
    "df.groupby('CC Provider')['Email'].apply(lambda x: x.iloc[1])"
   ]
  },
  {
   "cell_type": "markdown",
   "id": "7b58e5fb",
   "metadata": {},
   "source": [
    "#### Write a function that finds the second largest number in a series and then use it  in each CC Provider group."
   ]
  },
  {
   "cell_type": "code",
   "execution_count": 59,
   "id": "f34800d9",
   "metadata": {},
   "outputs": [],
   "source": [
    "def second(ser):\n",
    "     return ser.nlargest(2).iloc[1]\n",
    "    \n",
    "#CODE HERE\n"
   ]
  },
  {
   "cell_type": "code",
   "execution_count": 61,
   "id": "95b51cc5",
   "metadata": {},
   "outputs": [
    {
     "data": {
      "text/plain": [
       "CC Provider\n",
       "American Express               99.85\n",
       "Diners Club / Carte Blanche    99.69\n",
       "Discover                       99.86\n",
       "JCB 15 digit                   99.79\n",
       "JCB 16 digit                   99.90\n",
       "Maestro                        99.86\n",
       "Mastercard                     99.92\n",
       "VISA 13 digit                  99.70\n",
       "VISA 16 digit                  99.90\n",
       "Voyager                        99.71\n",
       "Name: Purchase Price, dtype: float64"
      ]
     },
     "execution_count": 61,
     "metadata": {},
     "output_type": "execute_result"
    }
   ],
   "source": [
    "df.groupby('CC Provider')['Purchase Price'].agg(second)"
   ]
  },
  {
   "cell_type": "markdown",
   "id": "30b4cef3",
   "metadata": {},
   "source": [
    "#### Find the miniumum and maximum  purchase price in each group"
   ]
  },
  {
   "cell_type": "code",
   "execution_count": 62,
   "id": "3ff88db3",
   "metadata": {},
   "outputs": [
    {
     "data": {
      "text/html": [
       "<div>\n",
       "<style scoped>\n",
       "    .dataframe tbody tr th:only-of-type {\n",
       "        vertical-align: middle;\n",
       "    }\n",
       "\n",
       "    .dataframe tbody tr th {\n",
       "        vertical-align: top;\n",
       "    }\n",
       "\n",
       "    .dataframe thead th {\n",
       "        text-align: right;\n",
       "    }\n",
       "</style>\n",
       "<table border=\"1\" class=\"dataframe\">\n",
       "  <thead>\n",
       "    <tr style=\"text-align: right;\">\n",
       "      <th></th>\n",
       "      <th>min</th>\n",
       "      <th>max</th>\n",
       "    </tr>\n",
       "    <tr>\n",
       "      <th>CC Provider</th>\n",
       "      <th></th>\n",
       "      <th></th>\n",
       "    </tr>\n",
       "  </thead>\n",
       "  <tbody>\n",
       "    <tr>\n",
       "      <th>American Express</th>\n",
       "      <td>0.07</td>\n",
       "      <td>99.97</td>\n",
       "    </tr>\n",
       "    <tr>\n",
       "      <th>Diners Club / Carte Blanche</th>\n",
       "      <td>0.04</td>\n",
       "      <td>99.90</td>\n",
       "    </tr>\n",
       "    <tr>\n",
       "      <th>Discover</th>\n",
       "      <td>0.00</td>\n",
       "      <td>99.88</td>\n",
       "    </tr>\n",
       "    <tr>\n",
       "      <th>JCB 15 digit</th>\n",
       "      <td>0.20</td>\n",
       "      <td>99.95</td>\n",
       "    </tr>\n",
       "    <tr>\n",
       "      <th>JCB 16 digit</th>\n",
       "      <td>0.19</td>\n",
       "      <td>99.91</td>\n",
       "    </tr>\n",
       "    <tr>\n",
       "      <th>Maestro</th>\n",
       "      <td>0.16</td>\n",
       "      <td>99.99</td>\n",
       "    </tr>\n",
       "    <tr>\n",
       "      <th>Mastercard</th>\n",
       "      <td>0.02</td>\n",
       "      <td>99.93</td>\n",
       "    </tr>\n",
       "    <tr>\n",
       "      <th>VISA 13 digit</th>\n",
       "      <td>0.14</td>\n",
       "      <td>99.75</td>\n",
       "    </tr>\n",
       "    <tr>\n",
       "      <th>VISA 16 digit</th>\n",
       "      <td>0.00</td>\n",
       "      <td>99.99</td>\n",
       "    </tr>\n",
       "    <tr>\n",
       "      <th>Voyager</th>\n",
       "      <td>0.03</td>\n",
       "      <td>99.92</td>\n",
       "    </tr>\n",
       "  </tbody>\n",
       "</table>\n",
       "</div>"
      ],
      "text/plain": [
       "                              min    max\n",
       "CC Provider                             \n",
       "American Express             0.07  99.97\n",
       "Diners Club / Carte Blanche  0.04  99.90\n",
       "Discover                     0.00  99.88\n",
       "JCB 15 digit                 0.20  99.95\n",
       "JCB 16 digit                 0.19  99.91\n",
       "Maestro                      0.16  99.99\n",
       "Mastercard                   0.02  99.93\n",
       "VISA 13 digit                0.14  99.75\n",
       "VISA 16 digit                0.00  99.99\n",
       "Voyager                      0.03  99.92"
      ]
     },
     "execution_count": 62,
     "metadata": {},
     "output_type": "execute_result"
    }
   ],
   "source": [
    "# use agg() on a list  to run more than one method after grouping.\n",
    "#CODE HERE\n",
    "df.groupby('CC Provider')['Purchase Price'].agg([min , max])"
   ]
  },
  {
   "cell_type": "markdown",
   "id": "8d0b4d13",
   "metadata": {},
   "source": [
    "#### Now find the minimum, maximum and mean price in each group"
   ]
  },
  {
   "cell_type": "code",
   "execution_count": 68,
   "id": "778a6442",
   "metadata": {},
   "outputs": [
    {
     "data": {
      "text/html": [
       "<div>\n",
       "<style scoped>\n",
       "    .dataframe tbody tr th:only-of-type {\n",
       "        vertical-align: middle;\n",
       "    }\n",
       "\n",
       "    .dataframe tbody tr th {\n",
       "        vertical-align: top;\n",
       "    }\n",
       "\n",
       "    .dataframe thead th {\n",
       "        text-align: right;\n",
       "    }\n",
       "</style>\n",
       "<table border=\"1\" class=\"dataframe\">\n",
       "  <thead>\n",
       "    <tr style=\"text-align: right;\">\n",
       "      <th></th>\n",
       "      <th>min</th>\n",
       "      <th>max</th>\n",
       "      <th>mean</th>\n",
       "    </tr>\n",
       "    <tr>\n",
       "      <th>CC Provider</th>\n",
       "      <th></th>\n",
       "      <th></th>\n",
       "      <th></th>\n",
       "    </tr>\n",
       "  </thead>\n",
       "  <tbody>\n",
       "    <tr>\n",
       "      <th>American Express</th>\n",
       "      <td>0.07</td>\n",
       "      <td>99.97</td>\n",
       "      <td>50.489423</td>\n",
       "    </tr>\n",
       "    <tr>\n",
       "      <th>Diners Club / Carte Blanche</th>\n",
       "      <td>0.04</td>\n",
       "      <td>99.90</td>\n",
       "      <td>48.733233</td>\n",
       "    </tr>\n",
       "    <tr>\n",
       "      <th>Discover</th>\n",
       "      <td>0.00</td>\n",
       "      <td>99.88</td>\n",
       "      <td>51.662338</td>\n",
       "    </tr>\n",
       "    <tr>\n",
       "      <th>JCB 15 digit</th>\n",
       "      <td>0.20</td>\n",
       "      <td>99.95</td>\n",
       "      <td>51.125115</td>\n",
       "    </tr>\n",
       "    <tr>\n",
       "      <th>JCB 16 digit</th>\n",
       "      <td>0.19</td>\n",
       "      <td>99.91</td>\n",
       "      <td>49.299143</td>\n",
       "    </tr>\n",
       "    <tr>\n",
       "      <th>Maestro</th>\n",
       "      <td>0.16</td>\n",
       "      <td>99.99</td>\n",
       "      <td>50.379173</td>\n",
       "    </tr>\n",
       "    <tr>\n",
       "      <th>Mastercard</th>\n",
       "      <td>0.02</td>\n",
       "      <td>99.93</td>\n",
       "      <td>50.043015</td>\n",
       "    </tr>\n",
       "    <tr>\n",
       "      <th>VISA 13 digit</th>\n",
       "      <td>0.14</td>\n",
       "      <td>99.75</td>\n",
       "      <td>51.449858</td>\n",
       "    </tr>\n",
       "    <tr>\n",
       "      <th>VISA 16 digit</th>\n",
       "      <td>0.00</td>\n",
       "      <td>99.99</td>\n",
       "      <td>49.871055</td>\n",
       "    </tr>\n",
       "    <tr>\n",
       "      <th>Voyager</th>\n",
       "      <td>0.03</td>\n",
       "      <td>99.92</td>\n",
       "      <td>51.973185</td>\n",
       "    </tr>\n",
       "  </tbody>\n",
       "</table>\n",
       "</div>"
      ],
      "text/plain": [
       "                              min    max       mean\n",
       "CC Provider                                        \n",
       "American Express             0.07  99.97  50.489423\n",
       "Diners Club / Carte Blanche  0.04  99.90  48.733233\n",
       "Discover                     0.00  99.88  51.662338\n",
       "JCB 15 digit                 0.20  99.95  51.125115\n",
       "JCB 16 digit                 0.19  99.91  49.299143\n",
       "Maestro                      0.16  99.99  50.379173\n",
       "Mastercard                   0.02  99.93  50.043015\n",
       "VISA 13 digit                0.14  99.75  51.449858\n",
       "VISA 16 digit                0.00  99.99  49.871055\n",
       "Voyager                      0.03  99.92  51.973185"
      ]
     },
     "execution_count": 68,
     "metadata": {},
     "output_type": "execute_result"
    }
   ],
   "source": [
    "# hint: agg only uses base python functions unless you tell it otherwise\n",
    "#CODE HERE\n",
    "df.groupby('CC Provider')['Purchase Price'].agg([min,max,np.mean])"
   ]
  },
  {
   "cell_type": "markdown",
   "id": "c9aabc27",
   "metadata": {},
   "source": [
    "#### Groupby can group by more than one criterion. Find the minimum and maximum of each CC Provider and Browser Type group."
   ]
  },
  {
   "cell_type": "code",
   "execution_count": 72,
   "id": "717b0af2",
   "metadata": {},
   "outputs": [
    {
     "data": {
      "text/plain": [
       "CC Provider                  browser type\n",
       "American Express             Mozilla          677\n",
       "                             Opera            172\n",
       "Diners Club / Carte Blanche  Mozilla          601\n",
       "                             Opera            166\n",
       "Discover                     Mozilla          663\n",
       "                             Opera            154\n",
       "JCB 15 digit                 Mozilla          704\n",
       "                             Opera            164\n",
       "JCB 16 digit                 Mozilla         1355\n",
       "                             Opera            361\n",
       "Maestro                      Mozilla          668\n",
       "                             Opera            178\n",
       "Mastercard                   Mozilla          639\n",
       "                             Opera            177\n",
       "VISA 13 digit                Mozilla          596\n",
       "                             Opera            181\n",
       "VISA 16 digit                Mozilla         1358\n",
       "                             Opera            357\n",
       "Voyager                      Mozilla          663\n",
       "                             Opera            166\n",
       "dtype: int64"
      ]
     },
     "execution_count": 72,
     "metadata": {},
     "output_type": "execute_result"
    }
   ],
   "source": [
    "#CODE HERE\n",
    "df.groupby(['CC Provider','browser type']).size()"
   ]
  },
  {
   "cell_type": "markdown",
   "id": "1dbb9704",
   "metadata": {},
   "source": [
    "#### The last table has a multi index. It is not easy to work with that. To 'flatten' the table with one index use reset_index()"
   ]
  },
  {
   "cell_type": "code",
   "execution_count": 74,
   "id": "e831eac7",
   "metadata": {},
   "outputs": [
    {
     "data": {
      "text/html": [
       "<div>\n",
       "<style scoped>\n",
       "    .dataframe tbody tr th:only-of-type {\n",
       "        vertical-align: middle;\n",
       "    }\n",
       "\n",
       "    .dataframe tbody tr th {\n",
       "        vertical-align: top;\n",
       "    }\n",
       "\n",
       "    .dataframe thead th {\n",
       "        text-align: right;\n",
       "    }\n",
       "</style>\n",
       "<table border=\"1\" class=\"dataframe\">\n",
       "  <thead>\n",
       "    <tr style=\"text-align: right;\">\n",
       "      <th></th>\n",
       "      <th>CC Provider</th>\n",
       "      <th>browser type</th>\n",
       "      <th>min</th>\n",
       "      <th>max</th>\n",
       "    </tr>\n",
       "  </thead>\n",
       "  <tbody>\n",
       "    <tr>\n",
       "      <th>0</th>\n",
       "      <td>American Express</td>\n",
       "      <td>Mozilla</td>\n",
       "      <td>0.07</td>\n",
       "      <td>99.97</td>\n",
       "    </tr>\n",
       "    <tr>\n",
       "      <th>1</th>\n",
       "      <td>American Express</td>\n",
       "      <td>Opera</td>\n",
       "      <td>0.71</td>\n",
       "      <td>99.81</td>\n",
       "    </tr>\n",
       "    <tr>\n",
       "      <th>2</th>\n",
       "      <td>Diners Club / Carte Blanche</td>\n",
       "      <td>Mozilla</td>\n",
       "      <td>0.04</td>\n",
       "      <td>99.90</td>\n",
       "    </tr>\n",
       "    <tr>\n",
       "      <th>3</th>\n",
       "      <td>Diners Club / Carte Blanche</td>\n",
       "      <td>Opera</td>\n",
       "      <td>0.32</td>\n",
       "      <td>98.25</td>\n",
       "    </tr>\n",
       "    <tr>\n",
       "      <th>4</th>\n",
       "      <td>Discover</td>\n",
       "      <td>Mozilla</td>\n",
       "      <td>0.00</td>\n",
       "      <td>99.86</td>\n",
       "    </tr>\n",
       "    <tr>\n",
       "      <th>5</th>\n",
       "      <td>Discover</td>\n",
       "      <td>Opera</td>\n",
       "      <td>0.38</td>\n",
       "      <td>99.88</td>\n",
       "    </tr>\n",
       "    <tr>\n",
       "      <th>6</th>\n",
       "      <td>JCB 15 digit</td>\n",
       "      <td>Mozilla</td>\n",
       "      <td>0.20</td>\n",
       "      <td>99.95</td>\n",
       "    </tr>\n",
       "    <tr>\n",
       "      <th>7</th>\n",
       "      <td>JCB 15 digit</td>\n",
       "      <td>Opera</td>\n",
       "      <td>0.43</td>\n",
       "      <td>98.75</td>\n",
       "    </tr>\n",
       "    <tr>\n",
       "      <th>8</th>\n",
       "      <td>JCB 16 digit</td>\n",
       "      <td>Mozilla</td>\n",
       "      <td>0.20</td>\n",
       "      <td>99.91</td>\n",
       "    </tr>\n",
       "    <tr>\n",
       "      <th>9</th>\n",
       "      <td>JCB 16 digit</td>\n",
       "      <td>Opera</td>\n",
       "      <td>0.19</td>\n",
       "      <td>99.50</td>\n",
       "    </tr>\n",
       "    <tr>\n",
       "      <th>10</th>\n",
       "      <td>Maestro</td>\n",
       "      <td>Mozilla</td>\n",
       "      <td>0.16</td>\n",
       "      <td>99.99</td>\n",
       "    </tr>\n",
       "    <tr>\n",
       "      <th>11</th>\n",
       "      <td>Maestro</td>\n",
       "      <td>Opera</td>\n",
       "      <td>0.64</td>\n",
       "      <td>99.59</td>\n",
       "    </tr>\n",
       "    <tr>\n",
       "      <th>12</th>\n",
       "      <td>Mastercard</td>\n",
       "      <td>Mozilla</td>\n",
       "      <td>0.02</td>\n",
       "      <td>99.93</td>\n",
       "    </tr>\n",
       "    <tr>\n",
       "      <th>13</th>\n",
       "      <td>Mastercard</td>\n",
       "      <td>Opera</td>\n",
       "      <td>0.90</td>\n",
       "      <td>98.76</td>\n",
       "    </tr>\n",
       "    <tr>\n",
       "      <th>14</th>\n",
       "      <td>VISA 13 digit</td>\n",
       "      <td>Mozilla</td>\n",
       "      <td>0.14</td>\n",
       "      <td>99.70</td>\n",
       "    </tr>\n",
       "    <tr>\n",
       "      <th>15</th>\n",
       "      <td>VISA 13 digit</td>\n",
       "      <td>Opera</td>\n",
       "      <td>0.74</td>\n",
       "      <td>99.75</td>\n",
       "    </tr>\n",
       "    <tr>\n",
       "      <th>16</th>\n",
       "      <td>VISA 16 digit</td>\n",
       "      <td>Mozilla</td>\n",
       "      <td>0.00</td>\n",
       "      <td>99.99</td>\n",
       "    </tr>\n",
       "    <tr>\n",
       "      <th>17</th>\n",
       "      <td>VISA 16 digit</td>\n",
       "      <td>Opera</td>\n",
       "      <td>0.31</td>\n",
       "      <td>99.90</td>\n",
       "    </tr>\n",
       "    <tr>\n",
       "      <th>18</th>\n",
       "      <td>Voyager</td>\n",
       "      <td>Mozilla</td>\n",
       "      <td>0.03</td>\n",
       "      <td>99.92</td>\n",
       "    </tr>\n",
       "    <tr>\n",
       "      <th>19</th>\n",
       "      <td>Voyager</td>\n",
       "      <td>Opera</td>\n",
       "      <td>0.50</td>\n",
       "      <td>98.96</td>\n",
       "    </tr>\n",
       "  </tbody>\n",
       "</table>\n",
       "</div>"
      ],
      "text/plain": [
       "                    CC Provider browser type   min    max\n",
       "0              American Express      Mozilla  0.07  99.97\n",
       "1              American Express        Opera  0.71  99.81\n",
       "2   Diners Club / Carte Blanche      Mozilla  0.04  99.90\n",
       "3   Diners Club / Carte Blanche        Opera  0.32  98.25\n",
       "4                      Discover      Mozilla  0.00  99.86\n",
       "5                      Discover        Opera  0.38  99.88\n",
       "6                  JCB 15 digit      Mozilla  0.20  99.95\n",
       "7                  JCB 15 digit        Opera  0.43  98.75\n",
       "8                  JCB 16 digit      Mozilla  0.20  99.91\n",
       "9                  JCB 16 digit        Opera  0.19  99.50\n",
       "10                      Maestro      Mozilla  0.16  99.99\n",
       "11                      Maestro        Opera  0.64  99.59\n",
       "12                   Mastercard      Mozilla  0.02  99.93\n",
       "13                   Mastercard        Opera  0.90  98.76\n",
       "14                VISA 13 digit      Mozilla  0.14  99.70\n",
       "15                VISA 13 digit        Opera  0.74  99.75\n",
       "16                VISA 16 digit      Mozilla  0.00  99.99\n",
       "17                VISA 16 digit        Opera  0.31  99.90\n",
       "18                      Voyager      Mozilla  0.03  99.92\n",
       "19                      Voyager        Opera  0.50  98.96"
      ]
     },
     "execution_count": 74,
     "metadata": {},
     "output_type": "execute_result"
    }
   ],
   "source": [
    "#run this cell\n",
    "df.groupby(['CC Provider','browser type'])['Purchase Price'].agg([min,max]).reset_index()"
   ]
  },
  {
   "cell_type": "markdown",
   "id": "1909dad1",
   "metadata": {},
   "source": [
    "## Dates and Times"
   ]
  },
  {
   "cell_type": "markdown",
   "id": "346c14e7",
   "metadata": {},
   "source": [
    "### In Base Python"
   ]
  },
  {
   "cell_type": "code",
   "execution_count": 75,
   "id": "73f8d941",
   "metadata": {},
   "outputs": [],
   "source": [
    "from datetime import date, time, datetime , timedelta\n",
    "from dateutil import tz"
   ]
  },
  {
   "cell_type": "code",
   "execution_count": 76,
   "id": "f1269ab1",
   "metadata": {},
   "outputs": [
    {
     "data": {
      "text/plain": [
       "datetime.date(2022, 11, 29)"
      ]
     },
     "execution_count": 76,
     "metadata": {},
     "output_type": "execute_result"
    }
   ],
   "source": [
    "#run cell\n",
    "today = date.today()\n",
    "today"
   ]
  },
  {
   "cell_type": "code",
   "execution_count": 77,
   "id": "783d1c21",
   "metadata": {},
   "outputs": [
    {
     "name": "stdout",
     "output_type": "stream",
     "text": [
      "2022\n",
      "11\n",
      "29\n"
     ]
    }
   ],
   "source": [
    "#run cell\n",
    "print(today.year)\n",
    "print(today.month)\n",
    "print(today.day)"
   ]
  },
  {
   "cell_type": "code",
   "execution_count": 78,
   "id": "46676a56",
   "metadata": {},
   "outputs": [
    {
     "data": {
      "text/plain": [
       "datetime.datetime(2022, 11, 29, 17, 23, 47, 334314)"
      ]
     },
     "execution_count": 78,
     "metadata": {},
     "output_type": "execute_result"
    }
   ],
   "source": [
    "#run cell\n",
    "now = datetime.now()\n",
    "now"
   ]
  },
  {
   "cell_type": "code",
   "execution_count": 79,
   "id": "680f89d0",
   "metadata": {},
   "outputs": [
    {
     "name": "stdout",
     "output_type": "stream",
     "text": [
      "17\n",
      "23\n",
      "47\n"
     ]
    }
   ],
   "source": [
    "#run cell\n",
    "print(now.hour)\n",
    "print(now.minute)\n",
    "print(now.second)"
   ]
  },
  {
   "cell_type": "code",
   "execution_count": 80,
   "id": "e364a777",
   "metadata": {},
   "outputs": [
    {
     "data": {
      "text/plain": [
       "datetime.datetime(2022, 11, 29, 17, 27, 11, 567295, tzinfo=tzlocal())"
      ]
     },
     "execution_count": 80,
     "metadata": {},
     "output_type": "execute_result"
    }
   ],
   "source": [
    "#run cell\n",
    "now = datetime.now(tz=tz.tzlocal())\n",
    "now"
   ]
  },
  {
   "cell_type": "code",
   "execution_count": 81,
   "id": "e7e80e2b",
   "metadata": {},
   "outputs": [
    {
     "data": {
      "text/plain": [
       "'שעון רגיל ירושלים'"
      ]
     },
     "execution_count": 81,
     "metadata": {},
     "output_type": "execute_result"
    }
   ],
   "source": [
    "#run cell\n",
    "now.tzname()"
   ]
  },
  {
   "cell_type": "code",
   "execution_count": 82,
   "id": "b2f976c2",
   "metadata": {},
   "outputs": [
    {
     "name": "stdout",
     "output_type": "stream",
     "text": [
      "2022-11-29 16:27:20.439281+01:00\n"
     ]
    }
   ],
   "source": [
    "#run cell\n",
    "now = datetime.now(tz=tz.gettz('Europe/Paris'))\n",
    "print(now)"
   ]
  },
  {
   "cell_type": "markdown",
   "id": "d96af294",
   "metadata": {},
   "source": [
    "#### Create a date for tomorrow using today plus a 'timedelta' of one day"
   ]
  },
  {
   "cell_type": "code",
   "execution_count": null,
   "id": "97954c1f",
   "metadata": {},
   "outputs": [],
   "source": [
    "#CODE HERE\n"
   ]
  },
  {
   "cell_type": "markdown",
   "id": "583dd642",
   "metadata": {},
   "source": [
    "#### How about the date one month from now?"
   ]
  },
  {
   "cell_type": "code",
   "execution_count": null,
   "id": "6e08ddb2",
   "metadata": {},
   "outputs": [],
   "source": [
    "#CODE HERE\n",
    "\n",
    "#hint: timedelta can be seconds, minutes, hours and days"
   ]
  },
  {
   "cell_type": "markdown",
   "id": "001d2a04",
   "metadata": {},
   "source": [
    "#### How long until the end of the lesson?"
   ]
  },
  {
   "cell_type": "code",
   "execution_count": null,
   "id": "c1ff94ea",
   "metadata": {},
   "outputs": [],
   "source": [
    "#CODE HERE\n"
   ]
  },
  {
   "cell_type": "markdown",
   "id": "c8280d22",
   "metadata": {},
   "source": [
    "### In Numpy"
   ]
  },
  {
   "cell_type": "code",
   "execution_count": null,
   "id": "318fa053",
   "metadata": {},
   "outputs": [],
   "source": [
    "# run cell\n",
    "end = np.datetime64('2022-11-29 17:30')\n",
    "end"
   ]
  },
  {
   "cell_type": "markdown",
   "id": "8bbe19b8",
   "metadata": {},
   "source": [
    "#### What do you think this does?"
   ]
  },
  {
   "cell_type": "code",
   "execution_count": null,
   "id": "b2f1b3d4",
   "metadata": {},
   "outputs": [],
   "source": [
    "year = np.datetime64(end,\"Y\")\n",
    "hour = np.datetime64(end,\"h\")\n",
    "print(year)\n",
    "print(hour)"
   ]
  },
  {
   "cell_type": "markdown",
   "id": "d5d49a3a",
   "metadata": {},
   "source": [
    "#### So if you really want to extract the hour you will need to convert to regular Python datetime using astype(object)"
   ]
  },
  {
   "cell_type": "code",
   "execution_count": null,
   "id": "9f2e785d",
   "metadata": {},
   "outputs": [],
   "source": [
    "#CODE HERE\n"
   ]
  },
  {
   "cell_type": "markdown",
   "id": "3885b562",
   "metadata": {},
   "source": [
    "#### In NumPy you can use timedelta64 "
   ]
  },
  {
   "cell_type": "code",
   "execution_count": null,
   "id": "b92369b9",
   "metadata": {},
   "outputs": [],
   "source": [
    "# add an hour to the end of the lesson\n",
    "# CODE HERE\n"
   ]
  },
  {
   "cell_type": "markdown",
   "id": "867ae545",
   "metadata": {},
   "source": [
    "#### Make an array of all dates between 29.11.2022 and 12.12.2022 using np.arange"
   ]
  },
  {
   "cell_type": "code",
   "execution_count": null,
   "id": "3e7d5663",
   "metadata": {},
   "outputs": [],
   "source": [
    "#CODE HERE\n"
   ]
  },
  {
   "cell_type": "markdown",
   "id": "784adf5b",
   "metadata": {},
   "source": [
    "#### Next time we'll do dates and times in Pandas too...."
   ]
  }
 ],
 "metadata": {
  "kernelspec": {
   "display_name": "Python 3 (ipykernel)",
   "language": "python",
   "name": "python3"
  },
  "language_info": {
   "codemirror_mode": {
    "name": "ipython",
    "version": 3
   },
   "file_extension": ".py",
   "mimetype": "text/x-python",
   "name": "python",
   "nbconvert_exporter": "python",
   "pygments_lexer": "ipython3",
   "version": "3.9.13"
  }
 },
 "nbformat": 4,
 "nbformat_minor": 5
}
