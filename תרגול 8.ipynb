{
 "cells": [
  {
   "cell_type": "markdown",
   "id": "a353bb6f",
   "metadata": {},
   "source": [
    "# Linear regression"
   ]
  },
  {
   "cell_type": "markdown",
   "id": "32e44bdc",
   "metadata": {},
   "source": [
    "### We are going to find out how to predict the profits in a chain of restaurants in different towns in America by the size of the population in each town"
   ]
  },
  {
   "cell_type": "markdown",
   "id": "9dadaeaa",
   "metadata": {},
   "source": [
    "#### In the dataset we will use the population size and the profits have both deen divided by 10000."
   ]
  },
  {
   "cell_type": "code",
   "execution_count": 28,
   "id": "63e68375",
   "metadata": {},
   "outputs": [],
   "source": [
    "import numpy as np\n",
    "import pandas as pd\n",
    "import matplotlib.pyplot as plt\n",
    "import seaborn as sns\n",
    "%matplotlib inline "
   ]
  },
  {
   "cell_type": "markdown",
   "id": "03c7d5d4",
   "metadata": {},
   "source": [
    "#### We have a text file . Use pd.read_table."
   ]
  },
  {
   "cell_type": "code",
   "execution_count": 29,
   "id": "e125ca7c",
   "metadata": {},
   "outputs": [
    {
     "name": "stdout",
     "output_type": "stream",
     "text": [
      "               0\n",
      "0  6.1101,17.592\n",
      "1  5.5277,9.1302\n",
      "2  8.5186,13.662\n",
      "3  7.0032,11.854\n",
      "4  5.8598,6.8233\n",
      "(97, 1)\n"
     ]
    }
   ],
   "source": [
    "# There is no header.\n",
    "df = pd.read_table('profit.txt', header = None)\n",
    "print(df.head())\n",
    "print(df.shape)"
   ]
  },
  {
   "cell_type": "markdown",
   "id": "6173a1dc",
   "metadata": {},
   "source": [
    "#### Split the strings in to two columns using str.split with argument expand=True. Rename the columns as {0:'population',1:'profit'}"
   ]
  },
  {
   "cell_type": "code",
   "execution_count": 30,
   "id": "698afce0",
   "metadata": {},
   "outputs": [
    {
     "data": {
      "text/html": [
       "<div>\n",
       "<style scoped>\n",
       "    .dataframe tbody tr th:only-of-type {\n",
       "        vertical-align: middle;\n",
       "    }\n",
       "\n",
       "    .dataframe tbody tr th {\n",
       "        vertical-align: top;\n",
       "    }\n",
       "\n",
       "    .dataframe thead th {\n",
       "        text-align: right;\n",
       "    }\n",
       "</style>\n",
       "<table border=\"1\" class=\"dataframe\">\n",
       "  <thead>\n",
       "    <tr style=\"text-align: right;\">\n",
       "      <th></th>\n",
       "      <th>0</th>\n",
       "      <th>1</th>\n",
       "    </tr>\n",
       "  </thead>\n",
       "  <tbody>\n",
       "    <tr>\n",
       "      <th>0</th>\n",
       "      <td>6.1101</td>\n",
       "      <td>17.592</td>\n",
       "    </tr>\n",
       "  </tbody>\n",
       "</table>\n",
       "</div>"
      ],
      "text/plain": [
       "        0       1\n",
       "0  6.1101  17.592"
      ]
     },
     "execution_count": 30,
     "metadata": {},
     "output_type": "execute_result"
    }
   ],
   "source": [
    "df.iloc[0].str.split(',',expand=True)"
   ]
  },
  {
   "cell_type": "code",
   "execution_count": 31,
   "id": "473ca459",
   "metadata": {},
   "outputs": [
    {
     "name": "stdout",
     "output_type": "stream",
     "text": [
      "<class 'pandas.core.frame.DataFrame'>\n",
      "RangeIndex: 97 entries, 0 to 96\n",
      "Data columns (total 2 columns):\n",
      " #   Column  Non-Null Count  Dtype \n",
      "---  ------  --------------  ----- \n",
      " 0   0       97 non-null     object\n",
      " 1   1       97 non-null     object\n",
      "dtypes: object(2)\n",
      "memory usage: 1.6+ KB\n"
     ]
    },
    {
     "data": {
      "text/html": [
       "<div>\n",
       "<style scoped>\n",
       "    .dataframe tbody tr th:only-of-type {\n",
       "        vertical-align: middle;\n",
       "    }\n",
       "\n",
       "    .dataframe tbody tr th {\n",
       "        vertical-align: top;\n",
       "    }\n",
       "\n",
       "    .dataframe thead th {\n",
       "        text-align: right;\n",
       "    }\n",
       "</style>\n",
       "<table border=\"1\" class=\"dataframe\">\n",
       "  <thead>\n",
       "    <tr style=\"text-align: right;\">\n",
       "      <th></th>\n",
       "      <th>0</th>\n",
       "      <th>1</th>\n",
       "    </tr>\n",
       "  </thead>\n",
       "  <tbody>\n",
       "    <tr>\n",
       "      <th>0</th>\n",
       "      <td>6.1101</td>\n",
       "      <td>17.592</td>\n",
       "    </tr>\n",
       "    <tr>\n",
       "      <th>1</th>\n",
       "      <td>5.5277</td>\n",
       "      <td>9.1302</td>\n",
       "    </tr>\n",
       "    <tr>\n",
       "      <th>2</th>\n",
       "      <td>8.5186</td>\n",
       "      <td>13.662</td>\n",
       "    </tr>\n",
       "    <tr>\n",
       "      <th>3</th>\n",
       "      <td>7.0032</td>\n",
       "      <td>11.854</td>\n",
       "    </tr>\n",
       "    <tr>\n",
       "      <th>4</th>\n",
       "      <td>5.8598</td>\n",
       "      <td>6.8233</td>\n",
       "    </tr>\n",
       "  </tbody>\n",
       "</table>\n",
       "</div>"
      ],
      "text/plain": [
       "        0       1\n",
       "0  6.1101  17.592\n",
       "1  5.5277  9.1302\n",
       "2  8.5186  13.662\n",
       "3  7.0032  11.854\n",
       "4  5.8598  6.8233"
      ]
     },
     "execution_count": 31,
     "metadata": {},
     "output_type": "execute_result"
    }
   ],
   "source": [
    "df = df.iloc[:,0].str.split(',',expand=True)\n",
    "df.info()\n",
    "df.head()"
   ]
  },
  {
   "cell_type": "code",
   "execution_count": 36,
   "id": "b7c47da3",
   "metadata": {},
   "outputs": [
    {
     "data": {
      "text/html": [
       "<div>\n",
       "<style scoped>\n",
       "    .dataframe tbody tr th:only-of-type {\n",
       "        vertical-align: middle;\n",
       "    }\n",
       "\n",
       "    .dataframe tbody tr th {\n",
       "        vertical-align: top;\n",
       "    }\n",
       "\n",
       "    .dataframe thead th {\n",
       "        text-align: right;\n",
       "    }\n",
       "</style>\n",
       "<table border=\"1\" class=\"dataframe\">\n",
       "  <thead>\n",
       "    <tr style=\"text-align: right;\">\n",
       "      <th></th>\n",
       "      <th>population</th>\n",
       "      <th>profit</th>\n",
       "    </tr>\n",
       "  </thead>\n",
       "  <tbody>\n",
       "    <tr>\n",
       "      <th>0</th>\n",
       "      <td>6.1101</td>\n",
       "      <td>17.592</td>\n",
       "    </tr>\n",
       "    <tr>\n",
       "      <th>1</th>\n",
       "      <td>5.5277</td>\n",
       "      <td>9.1302</td>\n",
       "    </tr>\n",
       "    <tr>\n",
       "      <th>2</th>\n",
       "      <td>8.5186</td>\n",
       "      <td>13.662</td>\n",
       "    </tr>\n",
       "    <tr>\n",
       "      <th>3</th>\n",
       "      <td>7.0032</td>\n",
       "      <td>11.854</td>\n",
       "    </tr>\n",
       "    <tr>\n",
       "      <th>4</th>\n",
       "      <td>5.8598</td>\n",
       "      <td>6.8233</td>\n",
       "    </tr>\n",
       "    <tr>\n",
       "      <th>...</th>\n",
       "      <td>...</td>\n",
       "      <td>...</td>\n",
       "    </tr>\n",
       "    <tr>\n",
       "      <th>92</th>\n",
       "      <td>5.8707</td>\n",
       "      <td>7.2029</td>\n",
       "    </tr>\n",
       "    <tr>\n",
       "      <th>93</th>\n",
       "      <td>5.3054</td>\n",
       "      <td>1.9869</td>\n",
       "    </tr>\n",
       "    <tr>\n",
       "      <th>94</th>\n",
       "      <td>8.2934</td>\n",
       "      <td>0.14454</td>\n",
       "    </tr>\n",
       "    <tr>\n",
       "      <th>95</th>\n",
       "      <td>13.394</td>\n",
       "      <td>9.0551</td>\n",
       "    </tr>\n",
       "    <tr>\n",
       "      <th>96</th>\n",
       "      <td>5.4369</td>\n",
       "      <td>0.61705</td>\n",
       "    </tr>\n",
       "  </tbody>\n",
       "</table>\n",
       "<p>97 rows × 2 columns</p>\n",
       "</div>"
      ],
      "text/plain": [
       "   population   profit\n",
       "0      6.1101   17.592\n",
       "1      5.5277   9.1302\n",
       "2      8.5186   13.662\n",
       "3      7.0032   11.854\n",
       "4      5.8598   6.8233\n",
       "..        ...      ...\n",
       "92     5.8707   7.2029\n",
       "93     5.3054   1.9869\n",
       "94     8.2934  0.14454\n",
       "95     13.394   9.0551\n",
       "96     5.4369  0.61705\n",
       "\n",
       "[97 rows x 2 columns]"
      ]
     },
     "execution_count": 36,
     "metadata": {},
     "output_type": "execute_result"
    }
   ],
   "source": [
    "df = df.rename(columns = {0:'population' , 1:'profit'})\n",
    "df"
   ]
  },
  {
   "cell_type": "markdown",
   "id": "63eb9852",
   "metadata": {},
   "source": [
    "#### We need numerical data not strings! Make into floats"
   ]
  },
  {
   "cell_type": "code",
   "execution_count": 40,
   "id": "a068d447",
   "metadata": {},
   "outputs": [
    {
     "name": "stdout",
     "output_type": "stream",
     "text": [
      "<class 'pandas.core.frame.DataFrame'>\n",
      "RangeIndex: 97 entries, 0 to 96\n",
      "Data columns (total 2 columns):\n",
      " #   Column      Non-Null Count  Dtype  \n",
      "---  ------      --------------  -----  \n",
      " 0   population  97 non-null     float64\n",
      " 1   profit      97 non-null     float64\n",
      "dtypes: float64(2)\n",
      "memory usage: 1.6 KB\n"
     ]
    }
   ],
   "source": [
    "df = df.astype(float)\n",
    "df.info()"
   ]
  },
  {
   "cell_type": "markdown",
   "id": "c8f36898",
   "metadata": {},
   "source": [
    "#### Population will be the independent variable (save as array X)  and profit will be dependent variable (save as vector y)"
   ]
  },
  {
   "cell_type": "code",
   "execution_count": 41,
   "id": "92b563e0",
   "metadata": {},
   "outputs": [],
   "source": [
    "#df.values will convert dataframe to numpy object\n",
    "X = df.iloc[:,0:1].values\n",
    "y = df.iloc[:,1].values"
   ]
  },
  {
   "cell_type": "code",
   "execution_count": 43,
   "id": "632fdeae",
   "metadata": {},
   "outputs": [
    {
     "name": "stdout",
     "output_type": "stream",
     "text": [
      "[[ 6.1101]\n",
      " [ 5.5277]\n",
      " [ 8.5186]\n",
      " [ 7.0032]\n",
      " [ 5.8598]\n",
      " [ 8.3829]\n",
      " [ 7.4764]\n",
      " [ 8.5781]\n",
      " [ 6.4862]\n",
      " [ 5.0546]\n",
      " [ 5.7107]\n",
      " [14.164 ]\n",
      " [ 5.734 ]\n",
      " [ 8.4084]\n",
      " [ 5.6407]\n",
      " [ 5.3794]\n",
      " [ 6.3654]\n",
      " [ 5.1301]\n",
      " [ 6.4296]\n",
      " [ 7.0708]\n",
      " [ 6.1891]\n",
      " [20.27  ]\n",
      " [ 5.4901]\n",
      " [ 6.3261]\n",
      " [ 5.5649]\n",
      " [18.945 ]\n",
      " [12.828 ]\n",
      " [10.957 ]\n",
      " [13.176 ]\n",
      " [22.203 ]\n",
      " [ 5.2524]\n",
      " [ 6.5894]\n",
      " [ 9.2482]\n",
      " [ 5.8918]\n",
      " [ 8.2111]\n",
      " [ 7.9334]\n",
      " [ 8.0959]\n",
      " [ 5.6063]\n",
      " [12.836 ]\n",
      " [ 6.3534]\n",
      " [ 5.4069]\n",
      " [ 6.8825]\n",
      " [11.708 ]\n",
      " [ 5.7737]\n",
      " [ 7.8247]\n",
      " [ 7.0931]\n",
      " [ 5.0702]\n",
      " [ 5.8014]\n",
      " [11.7   ]\n",
      " [ 5.5416]\n",
      " [ 7.5402]\n",
      " [ 5.3077]\n",
      " [ 7.4239]\n",
      " [ 7.6031]\n",
      " [ 6.3328]\n",
      " [ 6.3589]\n",
      " [ 6.2742]\n",
      " [ 5.6397]\n",
      " [ 9.3102]\n",
      " [ 9.4536]\n",
      " [ 8.8254]\n",
      " [ 5.1793]\n",
      " [21.279 ]\n",
      " [14.908 ]\n",
      " [18.959 ]\n",
      " [ 7.2182]\n",
      " [ 8.2951]\n",
      " [10.236 ]\n",
      " [ 5.4994]\n",
      " [20.341 ]\n",
      " [10.136 ]\n",
      " [ 7.3345]\n",
      " [ 6.0062]\n",
      " [ 7.2259]\n",
      " [ 5.0269]\n",
      " [ 6.5479]\n",
      " [ 7.5386]\n",
      " [ 5.0365]\n",
      " [10.274 ]\n",
      " [ 5.1077]\n",
      " [ 5.7292]\n",
      " [ 5.1884]\n",
      " [ 6.3557]\n",
      " [ 9.7687]\n",
      " [ 6.5159]\n",
      " [ 8.5172]\n",
      " [ 9.1802]\n",
      " [ 6.002 ]\n",
      " [ 5.5204]\n",
      " [ 5.0594]\n",
      " [ 5.7077]\n",
      " [ 7.6366]\n",
      " [ 5.8707]\n",
      " [ 5.3054]\n",
      " [ 8.2934]\n",
      " [13.394 ]\n",
      " [ 5.4369]]\n"
     ]
    }
   ],
   "source": [
    "print(X)"
   ]
  },
  {
   "cell_type": "markdown",
   "id": "11c8e78a",
   "metadata": {},
   "source": [
    "#### Split into train and test sets (70:30)"
   ]
  },
  {
   "cell_type": "code",
   "execution_count": 1,
   "id": "a4a3ae1c",
   "metadata": {},
   "outputs": [
    {
     "ename": "NameError",
     "evalue": "name 'X' is not defined",
     "output_type": "error",
     "traceback": [
      "\u001b[1;31m---------------------------------------------------------------------------\u001b[0m",
      "\u001b[1;31mNameError\u001b[0m                                 Traceback (most recent call last)",
      "\u001b[1;32m~\\AppData\\Local\\Temp\\ipykernel_5652\\3169934408.py\u001b[0m in \u001b[0;36m<module>\u001b[1;34m\u001b[0m\n\u001b[0;32m      1\u001b[0m \u001b[1;32mfrom\u001b[0m \u001b[0msklearn\u001b[0m\u001b[1;33m.\u001b[0m\u001b[0mmodel_selection\u001b[0m \u001b[1;32mimport\u001b[0m \u001b[0mtrain_test_split\u001b[0m\u001b[1;33m\u001b[0m\u001b[1;33m\u001b[0m\u001b[0m\n\u001b[0;32m      2\u001b[0m \u001b[1;33m\u001b[0m\u001b[0m\n\u001b[1;32m----> 3\u001b[1;33m \u001b[0mX_train\u001b[0m\u001b[1;33m,\u001b[0m \u001b[0mX_test\u001b[0m\u001b[1;33m,\u001b[0m \u001b[0my_train\u001b[0m\u001b[1;33m,\u001b[0m \u001b[0my_test\u001b[0m \u001b[1;33m=\u001b[0m \u001b[0mtrain_test_split\u001b[0m\u001b[1;33m(\u001b[0m\u001b[0mX\u001b[0m\u001b[1;33m,\u001b[0m\u001b[0my\u001b[0m\u001b[1;33m,\u001b[0m \u001b[0mtest_size\u001b[0m\u001b[1;33m=\u001b[0m\u001b[1;36m0.3\u001b[0m\u001b[1;33m,\u001b[0m \u001b[0mrandom_state\u001b[0m\u001b[1;33m=\u001b[0m\u001b[1;36m7\u001b[0m\u001b[1;33m)\u001b[0m\u001b[1;33m\u001b[0m\u001b[1;33m\u001b[0m\u001b[0m\n\u001b[0m",
      "\u001b[1;31mNameError\u001b[0m: name 'X' is not defined"
     ]
    }
   ],
   "source": [
    "from sklearn.model_selection import train_test_split\n",
    "\n",
    "X_train, X_test, y_train, y_test = train_test_split(X,y, test_size=0.3, random_state=7)\n"
   ]
  },
  {
   "cell_type": "markdown",
   "id": "1d9c9dd9",
   "metadata": {},
   "source": [
    "#### Make histograms for each of X_train and y_train"
   ]
  },
  {
   "cell_type": "code",
   "execution_count": 2,
   "id": "ab9da415",
   "metadata": {},
   "outputs": [
    {
     "ename": "NameError",
     "evalue": "name 'plt' is not defined",
     "output_type": "error",
     "traceback": [
      "\u001b[1;31m---------------------------------------------------------------------------\u001b[0m",
      "\u001b[1;31mNameError\u001b[0m                                 Traceback (most recent call last)",
      "\u001b[1;32m~\\AppData\\Local\\Temp\\ipykernel_5652\\2035162437.py\u001b[0m in \u001b[0;36m<module>\u001b[1;34m\u001b[0m\n\u001b[1;32m----> 1\u001b[1;33m \u001b[0mfig\u001b[0m\u001b[1;33m,\u001b[0m\u001b[1;33m(\u001b[0m\u001b[0max1\u001b[0m\u001b[1;33m,\u001b[0m\u001b[0max2\u001b[0m\u001b[1;33m)\u001b[0m \u001b[1;33m=\u001b[0m \u001b[0mplt\u001b[0m\u001b[1;33m.\u001b[0m\u001b[0msubplots\u001b[0m\u001b[1;33m(\u001b[0m\u001b[1;36m1\u001b[0m\u001b[1;33m,\u001b[0m\u001b[1;36m2\u001b[0m\u001b[1;33m)\u001b[0m\u001b[1;33m\u001b[0m\u001b[1;33m\u001b[0m\u001b[0m\n\u001b[0m\u001b[0;32m      2\u001b[0m \u001b[0max1\u001b[0m\u001b[1;33m.\u001b[0m\u001b[0mhist\u001b[0m\u001b[1;33m(\u001b[0m\u001b[0mX_train\u001b[0m\u001b[1;33m)\u001b[0m\u001b[1;33m\u001b[0m\u001b[1;33m\u001b[0m\u001b[0m\n\u001b[0;32m      3\u001b[0m \u001b[0max1\u001b[0m\u001b[1;33m.\u001b[0m\u001b[0mset_xlabel\u001b[0m\u001b[1;33m(\u001b[0m\u001b[1;34m'population'\u001b[0m\u001b[1;33m)\u001b[0m\u001b[1;33m\u001b[0m\u001b[1;33m\u001b[0m\u001b[0m\n\u001b[0;32m      4\u001b[0m \u001b[0max2\u001b[0m\u001b[1;33m.\u001b[0m\u001b[0mhist\u001b[0m\u001b[1;33m(\u001b[0m\u001b[0my_train\u001b[0m\u001b[1;33m)\u001b[0m\u001b[1;33m\u001b[0m\u001b[1;33m\u001b[0m\u001b[0m\n\u001b[0;32m      5\u001b[0m \u001b[0max2\u001b[0m\u001b[1;33m.\u001b[0m\u001b[0mset_xlabel\u001b[0m\u001b[1;33m(\u001b[0m\u001b[1;34m'profit'\u001b[0m\u001b[1;33m)\u001b[0m\u001b[1;33m\u001b[0m\u001b[1;33m\u001b[0m\u001b[0m\n",
      "\u001b[1;31mNameError\u001b[0m: name 'plt' is not defined"
     ]
    }
   ],
   "source": [
    "fig,(ax1,ax2) = plt.subplots(1,2)\n",
    "ax1.hist(X_train)\n",
    "ax1.set_xlabel('population')\n",
    "ax2.hist(y_train)\n",
    "ax2.set_xlabel('profit')"
   ]
  },
  {
   "cell_type": "markdown",
   "id": "923efcc9",
   "metadata": {},
   "source": [
    "#### Make scatter plot for train set"
   ]
  },
  {
   "cell_type": "code",
   "execution_count": 49,
   "id": "376807d3",
   "metadata": {},
   "outputs": [
    {
     "data": {
      "image/png": "[encoded data removed]",
      "text/plain": [
       "<Figure size 640x480 with 1 Axes>"
      ]
     },
     "metadata": {},
     "output_type": "display_data"
    }
   ],
   "source": [
    "plt.scatter(X_train, y_train)\n",
    "plt.xlabel('population')\n",
    "plt.ylabel('profit')\n",
    "plt.show()"
   ]
  },
  {
   "cell_type": "markdown",
   "id": "93ea0bf0",
   "metadata": {},
   "source": [
    "#### Fit the linear regressor on the train set"
   ]
  },
  {
   "cell_type": "code",
   "execution_count": 52,
   "id": "796fc9f7",
   "metadata": {},
   "outputs": [
    {
     "data": {
      "text/plain": [
       "LinearRegression()"
      ]
     },
     "execution_count": 52,
     "metadata": {},
     "output_type": "execute_result"
    }
   ],
   "source": [
    "from sklearn.linear_model import LinearRegression\n",
    "lreg = LinearRegression()\n",
    "lreg.fit(X_train, y_train)"
   ]
  },
  {
   "cell_type": "code",
   "execution_count": 56,
   "id": "889e3efe",
   "metadata": {},
   "outputs": [
    {
     "name": "stdout",
     "output_type": "stream",
     "text": [
      "[1.14861781] -3.438741714890651\n"
     ]
    }
   ],
   "source": [
    "print(lreg.coef_,lreg.intercept_)"
   ]
  },
  {
   "cell_type": "markdown",
   "id": "6c077b2e",
   "metadata": {},
   "source": [
    "#### Use lreg.predict on the train set to add regression line to scatter plot"
   ]
  },
  {
   "cell_type": "code",
   "execution_count": 58,
   "id": "2350b64c",
   "metadata": {},
   "outputs": [
    {
     "data": {
      "text/plain": [
       "Text(0, 0.5, 'profit')"
      ]
     },
     "execution_count": 58,
     "metadata": {},
     "output_type": "execute_result"
    },
    {
     "data": {
      "image/png": "[encoded data removed]",
      "text/plain": [
       "<Figure size 640x480 with 1 Axes>"
      ]
     },
     "metadata": {},
     "output_type": "display_data"
    }
   ],
   "source": [
    "y_train_pred = lreg.predict(X_train)\n",
    "plt.plot(X_train, y_train_pred, color = 'r')\n",
    "plt.scatter(X_train, y_train)\n",
    "plt.xlabel('population')\n",
    "plt.ylabel('profit')\n"
   ]
  },
  {
   "cell_type": "markdown",
   "id": "08edcb0d",
   "metadata": {},
   "source": [
    "#### Predict profits on test set. Make new plot for test data showing the test data, predictions and  regression line"
   ]
  },
  {
   "cell_type": "code",
   "execution_count": 62,
   "id": "e12fe0f6",
   "metadata": {},
   "outputs": [
    {
     "data": {
      "text/plain": [
       "[<matplotlib.lines.Line2D at 0x1e9393c5e80>]"
      ]
     },
     "execution_count": 62,
     "metadata": {},
     "output_type": "execute_result"
    },
    {
     "data": {
      "image/png": "[encoded data removed]",
      "text/plain": [
       "<Figure size 640x480 with 1 Axes>"
      ]
     },
     "metadata": {},
     "output_type": "display_data"
    }
   ],
   "source": [
    "y_test_pred = lreg.predict(X_test)\n",
    "plt.scatter(X_test, y_test)\n",
    "plt.xlabel('population in test set')\n",
    "plt.ylabel('profit in test set')\n",
    "plt.scatter(X_test,y_test_pred, color='r')\n",
    "plt.plot(X_test,y_test_pred, color='y')"
   ]
  },
  {
   "cell_type": "markdown",
   "id": "8ed62d7f",
   "metadata": {},
   "source": [
    "#### plot residuals for train and test set predictions (predictions on x axis and residuals on y axis)"
   ]
  },
  {
   "cell_type": "code",
   "execution_count": 64,
   "id": "909c2690",
   "metadata": {},
   "outputs": [
    {
     "data": {
      "text/plain": [
       "Text(0, 0.5, 'residuals')"
      ]
     },
     "execution_count": 64,
     "metadata": {},
     "output_type": "execute_result"
    },
    {
     "data": {
      "image/png": "[encoded data removed]",
      "text/plain": [
       "<Figure size 640x480 with 1 Axes>"
      ]
     },
     "metadata": {},
     "output_type": "display_data"
    }
   ],
   "source": [
    "resid = y_test - y_test_pred\n",
    "plt.scatter(y_test_pred, resid)\n",
    "plt.hlines(y=0, xmin=2,xmax=15)\n",
    "plt.xlabel('predicted profit')\n",
    "plt.ylabel('residuals')"
   ]
  },
  {
   "cell_type": "markdown",
   "id": "cbc51646",
   "metadata": {},
   "source": [
    "#### Calculate mse,rmse , mae and R^2"
   ]
  },
  {
   "cell_type": "code",
   "execution_count": 71,
   "id": "b38bc376",
   "metadata": {},
   "outputs": [
    {
     "name": "stdout",
     "output_type": "stream",
     "text": [
      "7.1339274016837795 2.6709412950650524 1.9276677341323374 0.5875056517670413\n"
     ]
    }
   ],
   "source": [
    "from sklearn.metrics import mean_squared_error,mean_absolute_error, r2_score\n",
    "mse = mean_squared_error(y_test, y_test_pred)\n",
    "rmse = mse**0.5\n",
    "mae = mean_absolute_error(y_test, y_test_pred)\n",
    "r2 = r2_score(y_test, y_test_pred)\n",
    "print(mse, rmse,mae,r2)"
   ]
  },
  {
   "cell_type": "markdown",
   "id": "5abb38db",
   "metadata": {},
   "source": [
    "#### Plot histogram with density plot of the test set residuals"
   ]
  },
  {
   "cell_type": "code",
   "execution_count": 70,
   "id": "03016296",
   "metadata": {},
   "outputs": [
    {
     "data": {
      "text/plain": [
       "<AxesSubplot:ylabel='Count'>"
      ]
     },
     "execution_count": 70,
     "metadata": {},
     "output_type": "execute_result"
    },
    {
     "data": {
      "image/png": "[encoded data removed]",
      "text/plain": [
       "<Figure size 640x480 with 1 Axes>"
      ]
     },
     "metadata": {},
     "output_type": "display_data"
    }
   ],
   "source": [
    "sns.histplot(resid , kde=True)"
   ]
  },
  {
   "cell_type": "code",
   "execution_count": null,
   "id": "3bbd1c68",
   "metadata": {},
   "outputs": [],
   "source": []
  }
 ],
 "metadata": {
  "kernelspec": {
   "display_name": "Python 3 (ipykernel)",
   "language": "python",
   "name": "python3"
  },
  "language_info": {
   "codemirror_mode": {
    "name": "ipython",
    "version": 3
   },
   "file_extension": ".py",
   "mimetype": "text/x-python",
   "name": "python",
   "nbconvert_exporter": "python",
   "pygments_lexer": "ipython3",
   "version": "3.9.13"
  }
 },
 "nbformat": 4,
 "nbformat_minor": 5
}
