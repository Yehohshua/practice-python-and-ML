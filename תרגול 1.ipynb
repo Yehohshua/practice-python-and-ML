{
 "cells": [
  {
   "cell_type": "markdown",
   "id": "b304b97f",
   "metadata": {},
   "source": [
    "# Starting to use PYTHON"
   ]
  },
  {
   "cell_type": "markdown",
   "id": "369f325b",
   "metadata": {},
   "source": [
    "Run the following cell to define some variables:"
   ]
  },
  {
   "cell_type": "code",
   "execution_count": null,
   "id": "19816176",
   "metadata": {},
   "outputs": [],
   "source": [
    "a = 5\n",
    "b = 41.3\n",
    "c = \"python is cool\"\n",
    "d = a > 0\n",
    "e = ['coding', 'statistics', 'data exploration', 'machine learning']\n",
    "f = ('coding', 'statistics', 'data exploration', 'machine learning')\n",
    "g = {'Monday':['LinAlg 1','Probability'],'Tuesday':['DS Fundamentals','Probability','Probability'], 'Wednesday':['LinAlg 1','LinAlg 1']}"
   ]
  },
  {
   "cell_type": "markdown",
   "id": "04e0352e",
   "metadata": {},
   "source": [
    "-  Do you know what the type of each variable is?\n",
    "Use the *type()* function in the next cell to check. \n",
    "-  What will be the type of the sum of a and b?\n",
    "-  Can Python add a and d? b and d?"
   ]
  },
  {
   "cell_type": "code",
   "execution_count": null,
   "id": "12cc8994",
   "metadata": {},
   "outputs": [],
   "source": []
  },
  {
   "cell_type": "markdown",
   "id": "0e3c3de6",
   "metadata": {},
   "source": [
    "On which of the variables can we use the *len()* function? What output will we get? Check in the next cell."
   ]
  },
  {
   "cell_type": "code",
   "execution_count": null,
   "id": "71c1f009",
   "metadata": {},
   "outputs": [],
   "source": []
  },
  {
   "cell_type": "markdown",
   "id": "0466cfb0",
   "metadata": {},
   "source": [
    "What will happen if we run the following cell?  Add a command to print out the new variable."
   ]
  },
  {
   "cell_type": "code",
   "execution_count": null,
   "id": "9009bbbf",
   "metadata": {},
   "outputs": [],
   "source": [
    "c_new = c.split()"
   ]
  },
  {
   "cell_type": "markdown",
   "id": "a0342243",
   "metadata": {},
   "source": [
    "-  How can we replace the 'p' in 'python' with 'P'?\n",
    "-  How can we get the second to fourth letters in the string c?"
   ]
  },
  {
   "cell_type": "code",
   "execution_count": null,
   "id": "4b2f263a",
   "metadata": {},
   "outputs": [],
   "source": []
  },
  {
   "cell_type": "markdown",
   "id": "8fff2106",
   "metadata": {},
   "source": [
    "-  How can you get the string 'data exploration' from the list e? \n",
    "-  How can you change the entry 'statistics' to 'stats'?\n",
    "-  Can you find two ways to add 'big data' to the end of the list?\n",
    "-  Now remove one of them...\n",
    "-  How can you get the second and third entries from list e?\n",
    "-  How can you get from the second entry to the end of the list?\n",
    "-  Two ways to get the last entry from the list?\n",
    "-  Print the sentence \"I like coding and stats\" using references to the strings 'coding', 'stats' in list e"
   ]
  },
  {
   "cell_type": "code",
   "execution_count": null,
   "id": "4c66d6f1",
   "metadata": {},
   "outputs": [],
   "source": []
  },
  {
   "cell_type": "markdown",
   "id": "ca6fc099",
   "metadata": {},
   "source": [
    "Which of the above work also for tuple f?\n",
    "You can check in the next cell."
   ]
  },
  {
   "cell_type": "code",
   "execution_count": null,
   "id": "1f50576a",
   "metadata": {},
   "outputs": [],
   "source": []
  },
  {
   "cell_type": "markdown",
   "id": "582f3572",
   "metadata": {},
   "source": [
    "-  Print out the keys of dictionary g.\n",
    "-  Print out the courses I teach on a Tuesday.\n",
    "-  How can you get the last course on Wednesday?\n",
    "-  I'd like some more hours. Can you add to the dictionary some course I could teach on Thursdays?"
   ]
  },
  {
   "cell_type": "markdown",
   "id": "8802d1e9",
   "metadata": {},
   "source": [
    "Define a function called capitalize that takes a list as input. Use a loop to make all strings in the list upper case. Print out the result calling the function on list e."
   ]
  },
  {
   "cell_type": "code",
   "execution_count": null,
   "id": "81051bc0",
   "metadata": {},
   "outputs": [],
   "source": []
  },
  {
   "cell_type": "markdown",
   "id": "4959fc25",
   "metadata": {},
   "source": [
    "Now use list comprehension to revert all the the strings in the list to lower case."
   ]
  },
  {
   "cell_type": "code",
   "execution_count": null,
   "id": "0998f92c",
   "metadata": {},
   "outputs": [],
   "source": []
  },
  {
   "cell_type": "markdown",
   "id": "8002f7f2",
   "metadata": {},
   "source": [
    "Now write a function named unique_vals that takes a dictionary as input and returns a list of all unique strings in the dictionary values. Print the result calling the function on dictionary g."
   ]
  },
  {
   "cell_type": "code",
   "execution_count": null,
   "id": "9e239f46",
   "metadata": {},
   "outputs": [],
   "source": []
  },
  {
   "cell_type": "markdown",
   "id": "14de56cd",
   "metadata": {},
   "source": [
    "# Let's use NumPy now!"
   ]
  },
  {
   "cell_type": "code",
   "execution_count": 1,
   "id": "7e797fd1",
   "metadata": {},
   "outputs": [],
   "source": [
    "# Run this cell so we can start working with Numpy\n",
    "import numpy as np"
   ]
  },
  {
   "cell_type": "markdown",
   "id": "7cf169ad",
   "metadata": {},
   "source": [
    "-  Create x, an numpy array consisting of 12 random numbers.\n",
    "-  Print out the  third to sixth elements, and the last two elements of x\n",
    "-  Print out the maximum and minimum values in x and the sum of the 12 numbers.\n",
    "-  Reshape x  with 4 rows and 3 columns.\n",
    "-  Print out the sum of each row.(Hint: you need to loop over the rows.)"
   ]
  },
  {
   "cell_type": "code",
   "execution_count": null,
   "id": "a0ce2fdc",
   "metadata": {},
   "outputs": [],
   "source": []
  }
 ],
 "metadata": {
  "kernelspec": {
   "display_name": "Python 3 (ipykernel)",
   "language": "python",
   "name": "python3"
  },
  "language_info": {
   "codemirror_mode": {
    "name": "ipython",
    "version": 3
   },
   "file_extension": ".py",
   "mimetype": "text/x-python",
   "name": "python",
   "nbconvert_exporter": "python",
   "pygments_lexer": "ipython3",
   "version": "3.9.13"
  }
 },
 "nbformat": 4,
 "nbformat_minor": 5
}
